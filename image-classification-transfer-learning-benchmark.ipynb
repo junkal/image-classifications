{
 "cells": [
  {
   "cell_type": "code",
   "execution_count": 1,
   "id": "60eddb2f",
   "metadata": {
    "execution": {
     "iopub.execute_input": "2022-05-10T15:54:23.979881Z",
     "iopub.status.busy": "2022-05-10T15:54:23.979367Z",
     "iopub.status.idle": "2022-05-10T15:54:30.664399Z",
     "shell.execute_reply": "2022-05-10T15:54:30.663369Z"
    },
    "papermill": {
     "duration": 6.742956,
     "end_time": "2022-05-10T15:54:30.667257",
     "exception": false,
     "start_time": "2022-05-10T15:54:23.924301",
     "status": "completed"
    },
    "tags": []
   },
   "outputs": [],
   "source": [
    "import os\n",
    "import cv2\n",
    "import numpy as np\n",
    "import pandas as pd\n",
    "import tensorflow as tf\n",
    "import matplotlib.pyplot as plt\n",
    "from tensorflow.keras import models\n",
    "from tensorflow.keras import layers\n",
    "from tensorflow.keras import optimizers\n",
    "from tensorflow.keras.models import Sequential\n",
    "from tensorflow.keras.preprocessing.image import ImageDataGenerator"
   ]
  },
  {
   "cell_type": "markdown",
   "id": "4b0ba4f2",
   "metadata": {
    "papermill": {
     "duration": 0.029961,
     "end_time": "2022-05-10T15:54:30.728208",
     "exception": false,
     "start_time": "2022-05-10T15:54:30.698247",
     "status": "completed"
    },
    "tags": []
   },
   "source": [
    "# Data Preparation"
   ]
  },
  {
   "cell_type": "code",
   "execution_count": 2,
   "id": "aacfbfab",
   "metadata": {
    "_cell_guid": "b1076dfc-b9ad-4769-8c92-a6c4dae69d19",
    "_uuid": "8f2839f25d086af736a60e9eeb907d3b93b6e0e5",
    "execution": {
     "iopub.execute_input": "2022-05-10T15:54:30.789384Z",
     "iopub.status.busy": "2022-05-10T15:54:30.789076Z",
     "iopub.status.idle": "2022-05-10T15:54:30.805687Z",
     "shell.execute_reply": "2022-05-10T15:54:30.804706Z"
    },
    "papermill": {
     "duration": 0.050174,
     "end_time": "2022-05-10T15:54:30.808085",
     "exception": false,
     "start_time": "2022-05-10T15:54:30.757911",
     "status": "completed"
    },
    "tags": []
   },
   "outputs": [
    {
     "name": "stdout",
     "output_type": "stream",
     "text": [
      "['daisy', 'dandelion', 'lily', 'orchid', 'rose', 'sunflower', 'tulip']\n"
     ]
    }
   ],
   "source": [
    "train_data_dir = \"../input/flowerdatasets/flowers/train\"\n",
    "val_data_dir = \"../input/flowerdatasets/flowers/val\"\n",
    "test_data_dir = \"../input/flowerdatasets/flowers/test\"\n",
    "\n",
    "class_subset = sorted(f for f in os.listdir(train_data_dir) if not f.startswith('.'))\n",
    "print(class_subset)"
   ]
  },
  {
   "cell_type": "code",
   "execution_count": 3,
   "id": "81a693a5",
   "metadata": {
    "execution": {
     "iopub.execute_input": "2022-05-10T15:54:30.871253Z",
     "iopub.status.busy": "2022-05-10T15:54:30.870426Z",
     "iopub.status.idle": "2022-05-10T15:54:30.878460Z",
     "shell.execute_reply": "2022-05-10T15:54:30.877558Z"
    },
    "papermill": {
     "duration": 0.042019,
     "end_time": "2022-05-10T15:54:30.880830",
     "exception": false,
     "start_time": "2022-05-10T15:54:30.838811",
     "status": "completed"
    },
    "tags": []
   },
   "outputs": [],
   "source": [
    "#central crop\n",
    "def crop_center_square(image):\n",
    "    img_height, img_width = image.shape[0:2]\n",
    "    min_dim = min(img_height, img_width)\n",
    "    start_x = (img_width // 2) - (min_dim // 2)\n",
    "    start_y = (img_height // 2) - (min_dim // 2)\n",
    "    \n",
    "    img = image[start_y : start_y + min_dim, start_x : start_x + min_dim]\n",
    "    img = cv2.cvtColor(img,cv2.COLOR_BGR2RGB)\n",
    "    return img"
   ]
  },
  {
   "cell_type": "markdown",
   "id": "6bf9da35",
   "metadata": {
    "papermill": {
     "duration": 0.031777,
     "end_time": "2022-05-10T15:54:30.942641",
     "exception": false,
     "start_time": "2022-05-10T15:54:30.910864",
     "status": "completed"
    },
    "tags": []
   },
   "source": [
    "# Definte Image Data Generator"
   ]
  },
  {
   "cell_type": "code",
   "execution_count": 4,
   "id": "da52e8f0",
   "metadata": {
    "execution": {
     "iopub.execute_input": "2022-05-10T15:54:31.006739Z",
     "iopub.status.busy": "2022-05-10T15:54:31.004922Z",
     "iopub.status.idle": "2022-05-10T15:54:31.013834Z",
     "shell.execute_reply": "2022-05-10T15:54:31.012848Z"
    },
    "papermill": {
     "duration": 0.043329,
     "end_time": "2022-05-10T15:54:31.016399",
     "exception": false,
     "start_time": "2022-05-10T15:54:30.973070",
     "status": "completed"
    },
    "tags": []
   },
   "outputs": [],
   "source": [
    "train_generator = ImageDataGenerator(rescale=1/255.,\n",
    "                                     featurewise_center= False,\n",
    "                                     samplewise_center= False,\n",
    "                                     featurewise_std_normalization= False,\n",
    "                                     samplewise_std_normalization=False,\n",
    "                                     rotation_range= 10,     # 0-180\n",
    "                                     zca_whitening=False,\n",
    "                                     zoom_range=0.1,         # Randomly zoom image\n",
    "                                     width_shift_range=0.2,  # randomly shift images horizontally (fraction of total width)\n",
    "                                     height_shift_range=0.2, # randomly shift images vertically (fraction of total height)\n",
    "                                     horizontal_flip=True,   # randomly flip images\n",
    "                                     vertical_flip=False,\n",
    "                                     validation_split=0.0,\n",
    "                                     preprocessing_function=crop_center_square)\n",
    "\n",
    "val_generator  = ImageDataGenerator(rescale=1/255.,\n",
    "                                    preprocessing_function=crop_center_square)\n",
    "\n",
    "test_generator = ImageDataGenerator(rescale=1/255.,\n",
    "                                    preprocessing_function=crop_center_square)"
   ]
  },
  {
   "cell_type": "markdown",
   "id": "aa1ff82b",
   "metadata": {
    "papermill": {
     "duration": 0.03053,
     "end_time": "2022-05-10T15:54:31.077542",
     "exception": false,
     "start_time": "2022-05-10T15:54:31.047012",
     "status": "completed"
    },
    "tags": []
   },
   "source": [
    "# Define Models"
   ]
  },
  {
   "cell_type": "code",
   "execution_count": 5,
   "id": "d6de2c30",
   "metadata": {
    "execution": {
     "iopub.execute_input": "2022-05-10T15:54:31.140318Z",
     "iopub.status.busy": "2022-05-10T15:54:31.140015Z",
     "iopub.status.idle": "2022-05-10T15:54:31.149813Z",
     "shell.execute_reply": "2022-05-10T15:54:31.148850Z"
    },
    "papermill": {
     "duration": 0.043825,
     "end_time": "2022-05-10T15:54:31.152070",
     "exception": false,
     "start_time": "2022-05-10T15:54:31.108245",
     "status": "completed"
    },
    "tags": []
   },
   "outputs": [],
   "source": [
    "from tensorflow.keras.applications.vgg16 import VGG16\n",
    "from tensorflow.keras.applications.densenet import DenseNet121\n",
    "from tensorflow.keras.applications.mobilenet_v2 import MobileNetV2\n",
    "from tensorflow.keras.applications.resnet_v2 import ResNet101V2\n",
    "from tensorflow.keras.applications.inception_v3 import InceptionV3\n",
    "from tensorflow.keras.applications.inception_resnet_v2 import InceptionResNetV2\n",
    "\n",
    "BATCH_SIZE = 32\n",
    "image_size = 224\n",
    "channel = 3\n",
    "lr = 1e-4"
   ]
  },
  {
   "cell_type": "markdown",
   "id": "2756d174",
   "metadata": {
    "papermill": {
     "duration": 0.030847,
     "end_time": "2022-05-10T15:54:31.213795",
     "exception": false,
     "start_time": "2022-05-10T15:54:31.182948",
     "status": "completed"
    },
    "tags": []
   },
   "source": [
    "## VGG16"
   ]
  },
  {
   "cell_type": "code",
   "execution_count": 6,
   "id": "8c782c1a",
   "metadata": {
    "execution": {
     "iopub.execute_input": "2022-05-10T15:54:31.277690Z",
     "iopub.status.busy": "2022-05-10T15:54:31.277351Z",
     "iopub.status.idle": "2022-05-10T15:54:35.765900Z",
     "shell.execute_reply": "2022-05-10T15:54:35.764807Z"
    },
    "papermill": {
     "duration": 4.523371,
     "end_time": "2022-05-10T15:54:35.768440",
     "exception": false,
     "start_time": "2022-05-10T15:54:31.245069",
     "status": "completed"
    },
    "tags": []
   },
   "outputs": [
    {
     "name": "stderr",
     "output_type": "stream",
     "text": [
      "2022-05-10 15:54:31.395633: I tensorflow/stream_executor/cuda/cuda_gpu_executor.cc:937] successful NUMA node read from SysFS had negative value (-1), but there must be at least one NUMA node, so returning NUMA node zero\n",
      "2022-05-10 15:54:31.530203: I tensorflow/stream_executor/cuda/cuda_gpu_executor.cc:937] successful NUMA node read from SysFS had negative value (-1), but there must be at least one NUMA node, so returning NUMA node zero\n",
      "2022-05-10 15:54:31.531396: I tensorflow/stream_executor/cuda/cuda_gpu_executor.cc:937] successful NUMA node read from SysFS had negative value (-1), but there must be at least one NUMA node, so returning NUMA node zero\n",
      "2022-05-10 15:54:31.533262: I tensorflow/core/platform/cpu_feature_guard.cc:142] This TensorFlow binary is optimized with oneAPI Deep Neural Network Library (oneDNN) to use the following CPU instructions in performance-critical operations:  AVX2 FMA\n",
      "To enable them in other operations, rebuild TensorFlow with the appropriate compiler flags.\n",
      "2022-05-10 15:54:31.533665: I tensorflow/stream_executor/cuda/cuda_gpu_executor.cc:937] successful NUMA node read from SysFS had negative value (-1), but there must be at least one NUMA node, so returning NUMA node zero\n",
      "2022-05-10 15:54:31.534729: I tensorflow/stream_executor/cuda/cuda_gpu_executor.cc:937] successful NUMA node read from SysFS had negative value (-1), but there must be at least one NUMA node, so returning NUMA node zero\n",
      "2022-05-10 15:54:31.535693: I tensorflow/stream_executor/cuda/cuda_gpu_executor.cc:937] successful NUMA node read from SysFS had negative value (-1), but there must be at least one NUMA node, so returning NUMA node zero\n",
      "2022-05-10 15:54:34.207867: I tensorflow/stream_executor/cuda/cuda_gpu_executor.cc:937] successful NUMA node read from SysFS had negative value (-1), but there must be at least one NUMA node, so returning NUMA node zero\n",
      "2022-05-10 15:54:34.209030: I tensorflow/stream_executor/cuda/cuda_gpu_executor.cc:937] successful NUMA node read from SysFS had negative value (-1), but there must be at least one NUMA node, so returning NUMA node zero\n",
      "2022-05-10 15:54:34.210079: I tensorflow/stream_executor/cuda/cuda_gpu_executor.cc:937] successful NUMA node read from SysFS had negative value (-1), but there must be at least one NUMA node, so returning NUMA node zero\n",
      "2022-05-10 15:54:34.211719: I tensorflow/core/common_runtime/gpu/gpu_device.cc:1510] Created device /job:localhost/replica:0/task:0/device:GPU:0 with 15403 MB memory:  -> device: 0, name: Tesla P100-PCIE-16GB, pci bus id: 0000:00:04.0, compute capability: 6.0\n"
     ]
    },
    {
     "name": "stdout",
     "output_type": "stream",
     "text": [
      "Downloading data from https://storage.googleapis.com/tensorflow/keras-applications/vgg16/vgg16_weights_tf_dim_ordering_tf_kernels_notop.h5\n",
      "58892288/58889256 [==============================] - 1s 0us/step\n",
      "58900480/58889256 [==============================] - 1s 0us/step\n"
     ]
    }
   ],
   "source": [
    "# VGG16\n",
    "vgg16_base_model = VGG16(weights='imagenet',\n",
    "                         include_top= False, \n",
    "                         input_shape=(image_size, image_size, channel),\n",
    "                         pooling='avg')\n",
    "\n",
    "vgg16_base_model.trainable = False\n",
    "\n",
    "vgg16_model = Sequential()\n",
    "vgg16_model.add(vgg16_base_model)\n",
    "vgg16_model.add(layers.Dense(256,activation='relu'))\n",
    "vgg16_model.add(layers.Dropout(0.2))\n",
    "vgg16_model.add(layers.Dense(len(class_subset),activation=\"softmax\"))\n",
    "\n",
    "vgg16_model.compile(optimizer=optimizers.Adam(learning_rate = lr), \n",
    "              loss='categorical_crossentropy', \n",
    "              metrics=['accuracy'])"
   ]
  },
  {
   "cell_type": "markdown",
   "id": "a3748335",
   "metadata": {
    "papermill": {
     "duration": 0.040859,
     "end_time": "2022-05-10T15:54:35.849993",
     "exception": false,
     "start_time": "2022-05-10T15:54:35.809134",
     "status": "completed"
    },
    "tags": []
   },
   "source": [
    "## DenseNet121"
   ]
  },
  {
   "cell_type": "code",
   "execution_count": 7,
   "id": "fce2e719",
   "metadata": {
    "execution": {
     "iopub.execute_input": "2022-05-10T15:54:35.932963Z",
     "iopub.status.busy": "2022-05-10T15:54:35.932619Z",
     "iopub.status.idle": "2022-05-10T15:54:40.980769Z",
     "shell.execute_reply": "2022-05-10T15:54:40.979762Z"
    },
    "papermill": {
     "duration": 5.0927,
     "end_time": "2022-05-10T15:54:40.983372",
     "exception": false,
     "start_time": "2022-05-10T15:54:35.890672",
     "status": "completed"
    },
    "tags": []
   },
   "outputs": [
    {
     "name": "stdout",
     "output_type": "stream",
     "text": [
      "Downloading data from https://storage.googleapis.com/tensorflow/keras-applications/densenet/densenet121_weights_tf_dim_ordering_tf_kernels_notop.h5\n",
      "29089792/29084464 [==============================] - 0s 0us/step\n",
      "29097984/29084464 [==============================] - 0s 0us/step\n"
     ]
    }
   ],
   "source": [
    "# DenseNet121\n",
    "densenet_base_model = DenseNet121(weights='imagenet',\n",
    "                                  include_top= False, \n",
    "                                  input_shape=(image_size, image_size, channel),\n",
    "                                  pooling='avg')\n",
    "\n",
    "densenet_base_model.trainable = False\n",
    "\n",
    "densenet_model = Sequential()\n",
    "densenet_model.add(densenet_base_model)\n",
    "densenet_model.add(layers.Dense(256,activation='relu'))\n",
    "densenet_model.add(layers.Dropout(0.2))\n",
    "densenet_model.add(layers.Dense(len(class_subset),activation=\"softmax\"))\n",
    "\n",
    "densenet_model.compile(optimizer=optimizers.Adam(learning_rate = lr), \n",
    "                       loss='categorical_crossentropy', \n",
    "                       metrics=['accuracy'])"
   ]
  },
  {
   "cell_type": "markdown",
   "id": "f63ae7a0",
   "metadata": {
    "papermill": {
     "duration": 0.043825,
     "end_time": "2022-05-10T15:54:41.071101",
     "exception": false,
     "start_time": "2022-05-10T15:54:41.027276",
     "status": "completed"
    },
    "tags": []
   },
   "source": [
    "## MobileNetV2 "
   ]
  },
  {
   "cell_type": "code",
   "execution_count": 8,
   "id": "b6fff49c",
   "metadata": {
    "execution": {
     "iopub.execute_input": "2022-05-10T15:54:41.159845Z",
     "iopub.status.busy": "2022-05-10T15:54:41.159509Z",
     "iopub.status.idle": "2022-05-10T15:54:43.575096Z",
     "shell.execute_reply": "2022-05-10T15:54:43.574169Z"
    },
    "papermill": {
     "duration": 2.463758,
     "end_time": "2022-05-10T15:54:43.578335",
     "exception": false,
     "start_time": "2022-05-10T15:54:41.114577",
     "status": "completed"
    },
    "tags": []
   },
   "outputs": [
    {
     "name": "stdout",
     "output_type": "stream",
     "text": [
      "Downloading data from https://storage.googleapis.com/tensorflow/keras-applications/mobilenet_v2/mobilenet_v2_weights_tf_dim_ordering_tf_kernels_1.0_224_no_top.h5\n",
      "9412608/9406464 [==============================] - 0s 0us/step\n",
      "9420800/9406464 [==============================] - 0s 0us/step\n"
     ]
    }
   ],
   "source": [
    "# MobileNetV2\n",
    "mobilenet_base_model = MobileNetV2(weights='imagenet',\n",
    "                                   include_top= False, \n",
    "                                   input_shape=(image_size, image_size, channel),\n",
    "                                   pooling='avg')\n",
    "\n",
    "mobilenet_base_model.trainable = False\n",
    "\n",
    "mobilenet_model = Sequential()\n",
    "mobilenet_model.add(mobilenet_base_model)\n",
    "mobilenet_model.add(layers.Dense(256,activation='relu'))\n",
    "mobilenet_model.add(layers.Dropout(0.2))\n",
    "mobilenet_model.add(layers.Dense(len(class_subset),activation=\"softmax\"))\n",
    "\n",
    "mobilenet_model.compile(optimizer=optimizers.Adam(learning_rate = lr), \n",
    "                        loss='categorical_crossentropy', \n",
    "                        metrics=['accuracy'])"
   ]
  },
  {
   "cell_type": "markdown",
   "id": "b681f0d5",
   "metadata": {
    "papermill": {
     "duration": 0.073862,
     "end_time": "2022-05-10T15:54:43.727595",
     "exception": false,
     "start_time": "2022-05-10T15:54:43.653733",
     "status": "completed"
    },
    "tags": []
   },
   "source": [
    "## ResNet101v2"
   ]
  },
  {
   "cell_type": "code",
   "execution_count": 9,
   "id": "9ee2893e",
   "metadata": {
    "execution": {
     "iopub.execute_input": "2022-05-10T15:54:43.878397Z",
     "iopub.status.busy": "2022-05-10T15:54:43.877910Z",
     "iopub.status.idle": "2022-05-10T15:54:50.138543Z",
     "shell.execute_reply": "2022-05-10T15:54:50.137526Z"
    },
    "papermill": {
     "duration": 6.339501,
     "end_time": "2022-05-10T15:54:50.141465",
     "exception": false,
     "start_time": "2022-05-10T15:54:43.801964",
     "status": "completed"
    },
    "tags": []
   },
   "outputs": [
    {
     "name": "stdout",
     "output_type": "stream",
     "text": [
      "Downloading data from https://storage.googleapis.com/tensorflow/keras-applications/resnet/resnet101v2_weights_tf_dim_ordering_tf_kernels_notop.h5\n",
      "171319296/171317808 [==============================] - 2s 0us/step\n",
      "171327488/171317808 [==============================] - 2s 0us/step\n"
     ]
    }
   ],
   "source": [
    "# ResNet101v2\n",
    "resnet101_base_model = ResNet101V2(weights='imagenet',\n",
    "                                   include_top= False, \n",
    "                                   input_shape=(image_size, image_size, channel),\n",
    "                                   pooling='avg')\n",
    "\n",
    "resnet101_base_model.trainable = False\n",
    "\n",
    "resnet101_model = Sequential()\n",
    "resnet101_model.add(resnet101_base_model)\n",
    "resnet101_model.add(layers.Dense(256,activation='relu'))\n",
    "resnet101_model.add(layers.Dropout(0.2))\n",
    "resnet101_model.add(layers.Dense(len(class_subset),activation=\"softmax\"))\n",
    "\n",
    "resnet101_model.compile(optimizer=optimizers.Adam(learning_rate = lr), \n",
    "                        loss='categorical_crossentropy', \n",
    "                        metrics=['accuracy'])"
   ]
  },
  {
   "cell_type": "markdown",
   "id": "1e7b25fb",
   "metadata": {
    "papermill": {
     "duration": 0.059714,
     "end_time": "2022-05-10T15:54:50.261303",
     "exception": false,
     "start_time": "2022-05-10T15:54:50.201589",
     "status": "completed"
    },
    "tags": []
   },
   "source": [
    "# InceptionV3"
   ]
  },
  {
   "cell_type": "code",
   "execution_count": 10,
   "id": "3dd6099d",
   "metadata": {
    "execution": {
     "iopub.execute_input": "2022-05-10T15:54:50.384033Z",
     "iopub.status.busy": "2022-05-10T15:54:50.383710Z",
     "iopub.status.idle": "2022-05-10T15:54:54.796752Z",
     "shell.execute_reply": "2022-05-10T15:54:54.795735Z"
    },
    "papermill": {
     "duration": 4.477108,
     "end_time": "2022-05-10T15:54:54.799676",
     "exception": false,
     "start_time": "2022-05-10T15:54:50.322568",
     "status": "completed"
    },
    "tags": []
   },
   "outputs": [
    {
     "name": "stdout",
     "output_type": "stream",
     "text": [
      "Downloading data from https://storage.googleapis.com/tensorflow/keras-applications/inception_v3/inception_v3_weights_tf_dim_ordering_tf_kernels_notop.h5\n",
      "87916544/87910968 [==============================] - 1s 0us/step\n",
      "87924736/87910968 [==============================] - 1s 0us/step\n"
     ]
    }
   ],
   "source": [
    "# InceptionV3\n",
    "inception_base_model = InceptionV3(input_shape = (image_size, image_size, channel), \n",
    "                                   include_top = False, \n",
    "                                   weights = 'imagenet',\n",
    "                                   pooling='avg')\n",
    "\n",
    "inception_base_model.trainable = False\n",
    "\n",
    "inception_model = Sequential()\n",
    "inception_model.add(inception_base_model)\n",
    "inception_model.add(layers.Dense(256,activation='relu'))\n",
    "inception_model.add(layers.Dropout(0.2))\n",
    "inception_model.add(layers.Dense(len(class_subset),activation=\"softmax\"))\n",
    "\n",
    "inception_model.compile(optimizer=optimizers.Adam(learning_rate = lr), \n",
    "                        loss='categorical_crossentropy', \n",
    "                        metrics=['accuracy'])"
   ]
  },
  {
   "cell_type": "markdown",
   "id": "fa94ce35",
   "metadata": {
    "papermill": {
     "duration": 0.0684,
     "end_time": "2022-05-10T15:54:54.936540",
     "exception": false,
     "start_time": "2022-05-10T15:54:54.868140",
     "status": "completed"
    },
    "tags": []
   },
   "source": [
    "# InceptionResNet"
   ]
  },
  {
   "cell_type": "code",
   "execution_count": 11,
   "id": "7bb8967d",
   "metadata": {
    "execution": {
     "iopub.execute_input": "2022-05-10T15:54:55.075421Z",
     "iopub.status.busy": "2022-05-10T15:54:55.074344Z",
     "iopub.status.idle": "2022-05-10T15:55:09.285894Z",
     "shell.execute_reply": "2022-05-10T15:55:09.284878Z"
    },
    "papermill": {
     "duration": 14.283149,
     "end_time": "2022-05-10T15:55:09.288736",
     "exception": false,
     "start_time": "2022-05-10T15:54:55.005587",
     "status": "completed"
    },
    "tags": []
   },
   "outputs": [
    {
     "name": "stdout",
     "output_type": "stream",
     "text": [
      "Downloading data from https://storage.googleapis.com/tensorflow/keras-applications/inception_resnet_v2/inception_resnet_v2_weights_tf_dim_ordering_tf_kernels_notop.h5\n",
      "219062272/219055592 [==============================] - 6s 0us/step\n",
      "219070464/219055592 [==============================] - 6s 0us/step\n"
     ]
    }
   ],
   "source": [
    "# InceptionResNetV2\n",
    "inceptionresnet_base_model = InceptionResNetV2(input_shape = (image_size, image_size, channel), \n",
    "                                               include_top = False, \n",
    "                                               weights=\"imagenet\", \n",
    "                                               pooling='avg')\n",
    "\n",
    "inceptionresnet_base_model.trainable = False\n",
    "\n",
    "inceptionresnet = Sequential()\n",
    "inceptionresnet.add(inceptionresnet_base_model)\n",
    "inceptionresnet.add(layers.Dense(256,activation='relu'))\n",
    "inceptionresnet.add(layers.Dropout(0.2))\n",
    "inceptionresnet.add(layers.Dense(len(class_subset),activation=\"softmax\"))\n",
    "\n",
    "inceptionresnet.compile(optimizer=optimizers.Adam(learning_rate = lr), \n",
    "                        loss='categorical_crossentropy', \n",
    "                        metrics=['accuracy'])"
   ]
  },
  {
   "cell_type": "markdown",
   "id": "a7a9a048",
   "metadata": {
    "papermill": {
     "duration": 0.08631,
     "end_time": "2022-05-10T15:55:09.462316",
     "exception": false,
     "start_time": "2022-05-10T15:55:09.376006",
     "status": "completed"
    },
    "tags": []
   },
   "source": [
    "## Define data generators"
   ]
  },
  {
   "cell_type": "code",
   "execution_count": 12,
   "id": "58a22e9f",
   "metadata": {
    "execution": {
     "iopub.execute_input": "2022-05-10T15:55:09.635670Z",
     "iopub.status.busy": "2022-05-10T15:55:09.635346Z",
     "iopub.status.idle": "2022-05-10T15:55:17.144317Z",
     "shell.execute_reply": "2022-05-10T15:55:17.143300Z"
    },
    "papermill": {
     "duration": 7.598931,
     "end_time": "2022-05-10T15:55:17.146616",
     "exception": false,
     "start_time": "2022-05-10T15:55:09.547685",
     "status": "completed"
    },
    "tags": []
   },
   "outputs": [
    {
     "name": "stdout",
     "output_type": "stream",
     "text": [
      "Found 8069 images belonging to 7 classes.\n",
      "Found 2306 images belonging to 7 classes.\n",
      "Found 1156 images belonging to 7 classes.\n"
     ]
    }
   ],
   "source": [
    "traingen = train_generator.flow_from_directory(train_data_dir,\n",
    "                                               target_size=(image_size, image_size),\n",
    "                                               class_mode='categorical',\n",
    "                                               classes=class_subset,\n",
    "                                               subset='training',\n",
    "                                               batch_size=BATCH_SIZE, \n",
    "                                               shuffle=True,\n",
    "                                               seed=21)\n",
    "\n",
    "validgen = val_generator.flow_from_directory(val_data_dir,\n",
    "                                             target_size=(image_size, image_size),\n",
    "                                             classes=class_subset,\n",
    "                                             batch_size=BATCH_SIZE,\n",
    "                                             shuffle=True,\n",
    "                                             seed=21)\n",
    "\n",
    "testgen = test_generator.flow_from_directory(test_data_dir,\n",
    "                                             target_size=(image_size, image_size),\n",
    "                                             class_mode=None,\n",
    "                                             classes=class_subset,\n",
    "                                             batch_size=1,\n",
    "                                             shuffle=False,\n",
    "                                             seed=21)"
   ]
  },
  {
   "cell_type": "code",
   "execution_count": 13,
   "id": "5500bded",
   "metadata": {
    "execution": {
     "iopub.execute_input": "2022-05-10T15:55:17.321367Z",
     "iopub.status.busy": "2022-05-10T15:55:17.321074Z",
     "iopub.status.idle": "2022-05-10T15:55:17.328114Z",
     "shell.execute_reply": "2022-05-10T15:55:17.327153Z"
    },
    "papermill": {
     "duration": 0.097545,
     "end_time": "2022-05-10T15:55:17.330625",
     "exception": false,
     "start_time": "2022-05-10T15:55:17.233080",
     "status": "completed"
    },
    "tags": []
   },
   "outputs": [],
   "source": [
    "model_dict = {\n",
    "    \"vgg16\": vgg16_model,\n",
    "    \"inceptionv3\": inception_model,\n",
    "    \"inception_resnet\": inceptionresnet,\n",
    "    \"densenet121\": densenet_model,\n",
    "    \"mobilenetv2\": mobilenet_model,\n",
    "    \"resnet101\": resnet101_model\n",
    "}\n",
    "\n",
    "weightfile_dict = {\n",
    "    \"vgg16\" : 'vgg16_model.hdf5',\n",
    "    \"inceptionv3\" : 'inceptionv3_model.hdf5',\n",
    "    \"inception_resnet\" : 'inception_resnet_model.hdf5',\n",
    "    \"densenet121\" : 'densenet121_model.hdf5',\n",
    "    \"mobilenetv2\" : 'mobilenetv2_model.hdf5',\n",
    "    \"resnet101\"   : 'resnet101_model.hdf5'    \n",
    "}\n",
    "\n",
    "historyfile_dict = {\n",
    "    \"vgg16\" : 'vgg16_history.csv',\n",
    "    \"inceptionv3\" : 'inceptionv3_history.csv',\n",
    "    \"inception_resnet\" : 'inception_resnet_history.csv',\n",
    "    \"densenet121\" : 'densenet121_history.csv',\n",
    "    \"mobilenetv2\" : 'mobilenetv2_history.csv',\n",
    "    \"resnet101\"   : 'resnet101_history.csv'    \n",
    "}"
   ]
  },
  {
   "cell_type": "code",
   "execution_count": 14,
   "id": "7fbd503c",
   "metadata": {
    "execution": {
     "iopub.execute_input": "2022-05-10T15:55:17.504430Z",
     "iopub.status.busy": "2022-05-10T15:55:17.504121Z",
     "iopub.status.idle": "2022-05-10T15:55:17.509428Z",
     "shell.execute_reply": "2022-05-10T15:55:17.508441Z"
    },
    "papermill": {
     "duration": 0.094619,
     "end_time": "2022-05-10T15:55:17.511582",
     "exception": false,
     "start_time": "2022-05-10T15:55:17.416963",
     "status": "completed"
    },
    "tags": []
   },
   "outputs": [],
   "source": [
    "class_indices = traingen.class_indices\n",
    "class_indices = dict((v,k) for k,v in class_indices.items())"
   ]
  },
  {
   "cell_type": "markdown",
   "id": "b0ec79dd",
   "metadata": {
    "papermill": {
     "duration": 0.087446,
     "end_time": "2022-05-10T15:55:17.687373",
     "exception": false,
     "start_time": "2022-05-10T15:55:17.599927",
     "status": "completed"
    },
    "tags": []
   },
   "source": [
    "# Modeling Training & Evaluation"
   ]
  },
  {
   "cell_type": "code",
   "execution_count": 15,
   "id": "a85a7c81",
   "metadata": {
    "execution": {
     "iopub.execute_input": "2022-05-10T15:55:17.864530Z",
     "iopub.status.busy": "2022-05-10T15:55:17.864219Z",
     "iopub.status.idle": "2022-05-10T15:55:19.166844Z",
     "shell.execute_reply": "2022-05-10T15:55:19.165514Z"
    },
    "papermill": {
     "duration": 1.3944,
     "end_time": "2022-05-10T15:55:19.171340",
     "exception": false,
     "start_time": "2022-05-10T15:55:17.776940",
     "status": "completed"
    },
    "tags": []
   },
   "outputs": [],
   "source": [
    "from sklearn.metrics import confusion_matrix\n",
    "from sklearn.metrics import classification_report\n",
    "from sklearn.metrics import accuracy_score\n",
    "from mlxtend.plotting import plot_confusion_matrix\n",
    "from tensorflow.keras.callbacks import ModelCheckpoint, EarlyStopping\n",
    "from tensorflow.keras.callbacks import ReduceLROnPlateau\n",
    "from tensorflow.keras.callbacks import CSVLogger"
   ]
  },
  {
   "cell_type": "code",
   "execution_count": 16,
   "id": "ab746520",
   "metadata": {
    "execution": {
     "iopub.execute_input": "2022-05-10T15:55:19.449968Z",
     "iopub.status.busy": "2022-05-10T15:55:19.449637Z",
     "iopub.status.idle": "2022-05-10T15:55:19.458325Z",
     "shell.execute_reply": "2022-05-10T15:55:19.457189Z"
    },
    "papermill": {
     "duration": 0.121781,
     "end_time": "2022-05-10T15:55:19.460685",
     "exception": false,
     "start_time": "2022-05-10T15:55:19.338904",
     "status": "completed"
    },
    "tags": []
   },
   "outputs": [],
   "source": [
    "def show_confusion_matrix(ground_truths, predictions, model_name, class_indices):\n",
    "\n",
    "    cm  = confusion_matrix(ground_truths, predictions)\n",
    "\n",
    "    plt.figure()\n",
    "    plot_confusion_matrix(cm,figsize=(12,8),cmap=plt.cm.Blues)\n",
    "    plt.xticks(range(len(class_indices)), class_indices.values(), fontsize=16)\n",
    "    plt.yticks(range(len(class_indices)), class_indices.values(), fontsize=16)\n",
    "    plt.xlabel('Predicted Label',fontsize=18)\n",
    "    plt.ylabel('True Label',fontsize=18)\n",
    "    plt.title(\"Confusion Matrix for \" + model_name, fontsize=18)\n",
    "    plt.savefig(model_name + \"_confusion_matrix.png\")\n",
    "    plt.show()    "
   ]
  },
  {
   "cell_type": "code",
   "execution_count": 17,
   "id": "55ecb0df",
   "metadata": {
    "execution": {
     "iopub.execute_input": "2022-05-10T15:55:19.639870Z",
     "iopub.status.busy": "2022-05-10T15:55:19.639535Z",
     "iopub.status.idle": "2022-05-10T19:07:50.006989Z",
     "shell.execute_reply": "2022-05-10T19:07:50.005818Z"
    },
    "papermill": {
     "duration": 11550.461041,
     "end_time": "2022-05-10T19:07:50.009440",
     "exception": false,
     "start_time": "2022-05-10T15:55:19.548399",
     "status": "completed"
    },
    "tags": []
   },
   "outputs": [
    {
     "name": "stdout",
     "output_type": "stream",
     "text": [
      "### Training VGG16 ###\n"
     ]
    },
    {
     "name": "stderr",
     "output_type": "stream",
     "text": [
      "2022-05-10 15:55:20.462384: I tensorflow/compiler/mlir/mlir_graph_optimization_pass.cc:185] None of the MLIR Optimization Passes are enabled (registered 2)\n"
     ]
    },
    {
     "name": "stdout",
     "output_type": "stream",
     "text": [
      "Epoch 1/10\n"
     ]
    },
    {
     "name": "stderr",
     "output_type": "stream",
     "text": [
      "2022-05-10 15:55:23.186670: I tensorflow/stream_executor/cuda/cuda_dnn.cc:369] Loaded cuDNN version 8005\n"
     ]
    },
    {
     "name": "stdout",
     "output_type": "stream",
     "text": [
      "252/252 [==============================] - 233s 881ms/step - loss: 1.6009 - accuracy: 0.4808 - val_loss: 1.1490 - val_accuracy: 0.7878\n",
      "\n",
      "Epoch 00001: val_accuracy improved from -inf to 0.78776, saving model to vgg16_model.hdf5\n",
      "Epoch 2/10\n",
      "252/252 [==============================] - 171s 677ms/step - loss: 1.0137 - accuracy: 0.7755 - val_loss: 0.7358 - val_accuracy: 0.8633\n",
      "\n",
      "Epoch 00002: val_accuracy improved from 0.78776 to 0.86328, saving model to vgg16_model.hdf5\n",
      "Epoch 3/10\n",
      "252/252 [==============================] - 168s 667ms/step - loss: 0.7187 - accuracy: 0.8468 - val_loss: 0.5374 - val_accuracy: 0.8906\n",
      "\n",
      "Epoch 00003: val_accuracy improved from 0.86328 to 0.89062, saving model to vgg16_model.hdf5\n",
      "Epoch 4/10\n",
      "252/252 [==============================] - 169s 667ms/step - loss: 0.5597 - accuracy: 0.8787 - val_loss: 0.4280 - val_accuracy: 0.9123\n",
      "\n",
      "Epoch 00004: val_accuracy improved from 0.89062 to 0.91233, saving model to vgg16_model.hdf5\n",
      "Epoch 5/10\n",
      "252/252 [==============================] - 171s 676ms/step - loss: 0.4576 - accuracy: 0.8990 - val_loss: 0.3542 - val_accuracy: 0.9227\n",
      "\n",
      "Epoch 00005: val_accuracy improved from 0.91233 to 0.92274, saving model to vgg16_model.hdf5\n",
      "Epoch 6/10\n",
      "252/252 [==============================] - 171s 679ms/step - loss: 0.3942 - accuracy: 0.9072 - val_loss: 0.3143 - val_accuracy: 0.9232\n",
      "\n",
      "Epoch 00006: val_accuracy improved from 0.92274 to 0.92318, saving model to vgg16_model.hdf5\n",
      "Epoch 7/10\n",
      "252/252 [==============================] - 170s 675ms/step - loss: 0.3454 - accuracy: 0.9159 - val_loss: 0.2720 - val_accuracy: 0.9332\n",
      "\n",
      "Epoch 00007: val_accuracy improved from 0.92318 to 0.93316, saving model to vgg16_model.hdf5\n",
      "Epoch 8/10\n",
      "252/252 [==============================] - 172s 679ms/step - loss: 0.3108 - accuracy: 0.9225 - val_loss: 0.2449 - val_accuracy: 0.9414\n",
      "\n",
      "Epoch 00008: val_accuracy improved from 0.93316 to 0.94141, saving model to vgg16_model.hdf5\n",
      "Epoch 9/10\n",
      "252/252 [==============================] - 171s 676ms/step - loss: 0.2832 - accuracy: 0.9314 - val_loss: 0.2297 - val_accuracy: 0.9410\n",
      "\n",
      "Epoch 00009: val_accuracy did not improve from 0.94141\n",
      "Epoch 10/10\n",
      "252/252 [==============================] - 171s 674ms/step - loss: 0.2605 - accuracy: 0.9338 - val_loss: 0.2074 - val_accuracy: 0.9470\n",
      "\n",
      "Epoch 00010: val_accuracy improved from 0.94141 to 0.94705, saving model to vgg16_model.hdf5\n",
      "              precision    recall  f1-score   support\n",
      "\n",
      "       daisy       0.93      0.93      0.93       176\n",
      "   dandelion       0.95      0.97      0.96       150\n",
      "        lily       0.89      0.96      0.92       162\n",
      "      orchid       0.93      0.89      0.91       186\n",
      "        rose       0.95      0.91      0.93       149\n",
      "   sunflower       0.95      0.96      0.95       172\n",
      "       tulip       0.97      0.95      0.96       161\n",
      "\n",
      "    accuracy                           0.94      1156\n",
      "   macro avg       0.94      0.94      0.94      1156\n",
      "weighted avg       0.94      0.94      0.94      1156\n",
      "\n"
     ]
    },
    {
     "data": {
      "text/plain": [
       "<Figure size 432x288 with 0 Axes>"
      ]
     },
     "metadata": {},
     "output_type": "display_data"
    },
    {
     "data": {
      "image/png": "[encoded data removed]",
      "text/plain": [
       "<Figure size 864x576 with 1 Axes>"
      ]
     },
     "metadata": {
      "needs_background": "light"
     },
     "output_type": "display_data"
    },
    {
     "name": "stdout",
     "output_type": "stream",
     "text": [
      "VGG16 model Accuracy: 93.77%\n",
      "\n",
      "\n",
      "### Training INCEPTIONV3 ###\n",
      "Epoch 1/10\n",
      "252/252 [==============================] - 177s 681ms/step - loss: 0.5286 - accuracy: 0.8289 - val_loss: 0.1874 - val_accuracy: 0.9418\n",
      "\n",
      "Epoch 00001: val_accuracy improved from -inf to 0.94184, saving model to inceptionv3_model.hdf5\n",
      "Epoch 2/10\n",
      "252/252 [==============================] - 174s 691ms/step - loss: 0.2346 - accuracy: 0.9227 - val_loss: 0.1330 - val_accuracy: 0.9588\n",
      "\n",
      "Epoch 00002: val_accuracy improved from 0.94184 to 0.95877, saving model to inceptionv3_model.hdf5\n",
      "Epoch 3/10\n",
      "252/252 [==============================] - 173s 688ms/step - loss: 0.1732 - accuracy: 0.9444 - val_loss: 0.1057 - val_accuracy: 0.9657\n",
      "\n",
      "Epoch 00003: val_accuracy improved from 0.95877 to 0.96571, saving model to inceptionv3_model.hdf5\n",
      "Epoch 4/10\n",
      "252/252 [==============================] - 171s 678ms/step - loss: 0.1469 - accuracy: 0.9502 - val_loss: 0.0911 - val_accuracy: 0.9705\n",
      "\n",
      "Epoch 00004: val_accuracy improved from 0.96571 to 0.97049, saving model to inceptionv3_model.hdf5\n",
      "Epoch 5/10\n",
      "252/252 [==============================] - 175s 694ms/step - loss: 0.1332 - accuracy: 0.9565 - val_loss: 0.0922 - val_accuracy: 0.9705\n",
      "\n",
      "Epoch 00005: val_accuracy did not improve from 0.97049\n",
      "Epoch 6/10\n",
      "252/252 [==============================] - 173s 684ms/step - loss: 0.1222 - accuracy: 0.9609 - val_loss: 0.0801 - val_accuracy: 0.9757\n",
      "\n",
      "Epoch 00006: val_accuracy improved from 0.97049 to 0.97569, saving model to inceptionv3_model.hdf5\n",
      "Epoch 7/10\n",
      "252/252 [==============================] - 173s 684ms/step - loss: 0.1121 - accuracy: 0.9655 - val_loss: 0.0786 - val_accuracy: 0.9757\n",
      "\n",
      "Epoch 00007: val_accuracy did not improve from 0.97569\n",
      "Epoch 8/10\n",
      "252/252 [==============================] - 176s 696ms/step - loss: 0.0988 - accuracy: 0.9695 - val_loss: 0.0756 - val_accuracy: 0.9744\n",
      "\n",
      "Epoch 00008: val_accuracy did not improve from 0.97569\n",
      "Epoch 9/10\n",
      "252/252 [==============================] - 178s 704ms/step - loss: 0.0920 - accuracy: 0.9683 - val_loss: 0.0759 - val_accuracy: 0.9735\n",
      "\n",
      "Epoch 00009: val_accuracy did not improve from 0.97569\n",
      "              precision    recall  f1-score   support\n",
      "\n",
      "       daisy       0.96      0.94      0.95       176\n",
      "   dandelion       0.99      0.97      0.98       150\n",
      "        lily       0.98      0.98      0.98       162\n",
      "      orchid       0.97      0.97      0.97       186\n",
      "        rose       0.98      0.94      0.96       149\n",
      "   sunflower       0.94      0.98      0.96       172\n",
      "       tulip       0.96      0.99      0.98       161\n",
      "\n",
      "    accuracy                           0.97      1156\n",
      "   macro avg       0.97      0.97      0.97      1156\n",
      "weighted avg       0.97      0.97      0.97      1156\n",
      "\n"
     ]
    },
    {
     "data": {
      "text/plain": [
       "<Figure size 432x288 with 0 Axes>"
      ]
     },
     "metadata": {},
     "output_type": "display_data"
    },
    {
     "data": {
      "image/png": "[encoded data removed]",
      "text/plain": [
       "<Figure size 864x576 with 1 Axes>"
      ]
     },
     "metadata": {
      "needs_background": "light"
     },
     "output_type": "display_data"
    },
    {
     "name": "stdout",
     "output_type": "stream",
     "text": [
      "INCEPTIONV3 model Accuracy: 96.80%\n",
      "\n",
      "\n",
      "### Training INCEPTION_RESNET ###\n",
      "Epoch 1/10\n",
      "252/252 [==============================] - 205s 765ms/step - loss: 0.5836 - accuracy: 0.8023 - val_loss: 0.2531 - val_accuracy: 0.9210\n",
      "\n",
      "Epoch 00001: val_accuracy improved from -inf to 0.92101, saving model to inception_resnet_model.hdf5\n",
      "Epoch 2/10\n",
      "252/252 [==============================] - 188s 745ms/step - loss: 0.2504 - accuracy: 0.9201 - val_loss: 0.1748 - val_accuracy: 0.9462\n",
      "\n",
      "Epoch 00002: val_accuracy improved from 0.92101 to 0.94618, saving model to inception_resnet_model.hdf5\n",
      "Epoch 3/10\n",
      "252/252 [==============================] - 189s 750ms/step - loss: 0.1875 - accuracy: 0.9409 - val_loss: 0.1416 - val_accuracy: 0.9544\n",
      "\n",
      "Epoch 00003: val_accuracy improved from 0.94618 to 0.95443, saving model to inception_resnet_model.hdf5\n",
      "Epoch 4/10\n",
      "252/252 [==============================] - 189s 750ms/step - loss: 0.1528 - accuracy: 0.9525 - val_loss: 0.1214 - val_accuracy: 0.9570\n",
      "\n",
      "Epoch 00004: val_accuracy improved from 0.95443 to 0.95703, saving model to inception_resnet_model.hdf5\n",
      "Epoch 5/10\n",
      "252/252 [==============================] - 188s 743ms/step - loss: 0.1370 - accuracy: 0.9597 - val_loss: 0.1179 - val_accuracy: 0.9609\n",
      "\n",
      "Epoch 00005: val_accuracy improved from 0.95703 to 0.96094, saving model to inception_resnet_model.hdf5\n",
      "Epoch 6/10\n",
      "252/252 [==============================] - 189s 746ms/step - loss: 0.1205 - accuracy: 0.9625 - val_loss: 0.0979 - val_accuracy: 0.9679\n",
      "\n",
      "Epoch 00006: val_accuracy improved from 0.96094 to 0.96788, saving model to inception_resnet_model.hdf5\n",
      "Epoch 7/10\n",
      "252/252 [==============================] - 189s 750ms/step - loss: 0.1097 - accuracy: 0.9668 - val_loss: 0.0955 - val_accuracy: 0.9674\n",
      "\n",
      "Epoch 00007: val_accuracy did not improve from 0.96788\n",
      "Epoch 8/10\n",
      "252/252 [==============================] - 190s 755ms/step - loss: 0.0995 - accuracy: 0.9701 - val_loss: 0.0870 - val_accuracy: 0.9722\n",
      "\n",
      "Epoch 00008: val_accuracy improved from 0.96788 to 0.97222, saving model to inception_resnet_model.hdf5\n",
      "Epoch 9/10\n",
      "252/252 [==============================] - 189s 749ms/step - loss: 0.0965 - accuracy: 0.9701 - val_loss: 0.0829 - val_accuracy: 0.9722\n",
      "\n",
      "Epoch 00009: val_accuracy did not improve from 0.97222\n",
      "Epoch 10/10\n",
      "252/252 [==============================] - 190s 751ms/step - loss: 0.0907 - accuracy: 0.9720 - val_loss: 0.0805 - val_accuracy: 0.9740\n",
      "\n",
      "Epoch 00010: val_accuracy improved from 0.97222 to 0.97396, saving model to inception_resnet_model.hdf5\n",
      "              precision    recall  f1-score   support\n",
      "\n",
      "       daisy       0.97      0.99      0.98       176\n",
      "   dandelion       1.00      0.97      0.99       150\n",
      "        lily       0.95      0.99      0.97       162\n",
      "      orchid       0.98      0.95      0.97       186\n",
      "        rose       0.95      0.99      0.97       149\n",
      "   sunflower       0.98      0.97      0.98       172\n",
      "       tulip       0.99      0.98      0.98       161\n",
      "\n",
      "    accuracy                           0.98      1156\n",
      "   macro avg       0.98      0.98      0.98      1156\n",
      "weighted avg       0.98      0.98      0.98      1156\n",
      "\n"
     ]
    },
    {
     "data": {
      "text/plain": [
       "<Figure size 432x288 with 0 Axes>"
      ]
     },
     "metadata": {},
     "output_type": "display_data"
    },
    {
     "data": {
      "image/png": "[encoded data removed]",
      "text/plain": [
       "<Figure size 864x576 with 1 Axes>"
      ]
     },
     "metadata": {
      "needs_background": "light"
     },
     "output_type": "display_data"
    },
    {
     "name": "stdout",
     "output_type": "stream",
     "text": [
      "INCEPTION_RESNET model Accuracy: 97.58%\n",
      "\n",
      "\n",
      "### Training DENSENET121 ###\n",
      "Epoch 1/10\n",
      "252/252 [==============================] - 191s 720ms/step - loss: 0.7909 - accuracy: 0.7558 - val_loss: 0.2028 - val_accuracy: 0.9653\n",
      "\n",
      "Epoch 00001: val_accuracy improved from -inf to 0.96528, saving model to densenet121_model.hdf5\n",
      "Epoch 2/10\n",
      "252/252 [==============================] - 182s 723ms/step - loss: 0.2420 - accuracy: 0.9387 - val_loss: 0.1104 - val_accuracy: 0.9722\n",
      "\n",
      "Epoch 00002: val_accuracy improved from 0.96528 to 0.97222, saving model to densenet121_model.hdf5\n",
      "Epoch 3/10\n",
      "252/252 [==============================] - 181s 719ms/step - loss: 0.1648 - accuracy: 0.9568 - val_loss: 0.0788 - val_accuracy: 0.9792\n",
      "\n",
      "Epoch 00003: val_accuracy improved from 0.97222 to 0.97917, saving model to densenet121_model.hdf5\n",
      "Epoch 4/10\n",
      "252/252 [==============================] - 182s 724ms/step - loss: 0.1223 - accuracy: 0.9672 - val_loss: 0.0636 - val_accuracy: 0.9809\n",
      "\n",
      "Epoch 00004: val_accuracy improved from 0.97917 to 0.98090, saving model to densenet121_model.hdf5\n",
      "Epoch 5/10\n",
      "252/252 [==============================] - 183s 725ms/step - loss: 0.1069 - accuracy: 0.9704 - val_loss: 0.0568 - val_accuracy: 0.9826\n",
      "\n",
      "Epoch 00005: val_accuracy improved from 0.98090 to 0.98264, saving model to densenet121_model.hdf5\n",
      "Epoch 6/10\n",
      "252/252 [==============================] - 179s 709ms/step - loss: 0.0924 - accuracy: 0.9732 - val_loss: 0.0494 - val_accuracy: 0.9848\n",
      "\n",
      "Epoch 00006: val_accuracy improved from 0.98264 to 0.98481, saving model to densenet121_model.hdf5\n",
      "Epoch 7/10\n",
      "252/252 [==============================] - 177s 701ms/step - loss: 0.0795 - accuracy: 0.9762 - val_loss: 0.0455 - val_accuracy: 0.9861\n",
      "\n",
      "Epoch 00007: val_accuracy improved from 0.98481 to 0.98611, saving model to densenet121_model.hdf5\n",
      "Epoch 8/10\n",
      "252/252 [==============================] - 178s 707ms/step - loss: 0.0716 - accuracy: 0.9792 - val_loss: 0.0404 - val_accuracy: 0.9874\n",
      "\n",
      "Epoch 00008: val_accuracy improved from 0.98611 to 0.98741, saving model to densenet121_model.hdf5\n",
      "Epoch 9/10\n",
      "252/252 [==============================] - 175s 695ms/step - loss: 0.0659 - accuracy: 0.9798 - val_loss: 0.0370 - val_accuracy: 0.9900\n",
      "\n",
      "Epoch 00009: val_accuracy improved from 0.98741 to 0.99002, saving model to densenet121_model.hdf5\n",
      "Epoch 10/10\n",
      "252/252 [==============================] - 178s 703ms/step - loss: 0.0631 - accuracy: 0.9805 - val_loss: 0.0357 - val_accuracy: 0.9905\n",
      "\n",
      "Epoch 00010: val_accuracy improved from 0.99002 to 0.99045, saving model to densenet121_model.hdf5\n",
      "              precision    recall  f1-score   support\n",
      "\n",
      "       daisy       0.99      0.98      0.99       176\n",
      "   dandelion       1.00      0.99      0.99       150\n",
      "        lily       0.97      1.00      0.98       162\n",
      "      orchid       0.99      0.99      0.99       186\n",
      "        rose       0.97      0.98      0.98       149\n",
      "   sunflower       0.99      0.99      0.99       172\n",
      "       tulip       0.99      0.98      0.98       161\n",
      "\n",
      "    accuracy                           0.99      1156\n",
      "   macro avg       0.99      0.99      0.99      1156\n",
      "weighted avg       0.99      0.99      0.99      1156\n",
      "\n"
     ]
    },
    {
     "data": {
      "text/plain": [
       "<Figure size 432x288 with 0 Axes>"
      ]
     },
     "metadata": {},
     "output_type": "display_data"
    },
    {
     "data": {
      "image/png": "[encoded data removed]",
      "text/plain": [
       "<Figure size 864x576 with 1 Axes>"
      ]
     },
     "metadata": {
      "needs_background": "light"
     },
     "output_type": "display_data"
    },
    {
     "name": "stdout",
     "output_type": "stream",
     "text": [
      "DENSENET121 model Accuracy: 98.62%\n",
      "\n",
      "\n",
      "### Training MOBILENETV2 ###\n",
      "Epoch 1/10\n",
      "252/252 [==============================] - 179s 683ms/step - loss: 0.6040 - accuracy: 0.8122 - val_loss: 0.1757 - val_accuracy: 0.9579\n",
      "\n",
      "Epoch 00001: val_accuracy improved from -inf to 0.95790, saving model to mobilenetv2_model.hdf5\n"
     ]
    },
    {
     "name": "stderr",
     "output_type": "stream",
     "text": [
      "/opt/conda/lib/python3.7/site-packages/keras/utils/generic_utils.py:497: CustomMaskWarning: Custom mask layers require a config and must override get_config. When loading, the custom mask layer must be passed to the custom_objects argument.\n",
      "  category=CustomMaskWarning)\n"
     ]
    },
    {
     "name": "stdout",
     "output_type": "stream",
     "text": [
      "Epoch 2/10\n",
      "252/252 [==============================] - 173s 685ms/step - loss: 0.1943 - accuracy: 0.9424 - val_loss: 0.1137 - val_accuracy: 0.9727\n",
      "\n",
      "Epoch 00002: val_accuracy improved from 0.95790 to 0.97266, saving model to mobilenetv2_model.hdf5\n",
      "Epoch 3/10\n",
      "252/252 [==============================] - 176s 699ms/step - loss: 0.1373 - accuracy: 0.9578 - val_loss: 0.0869 - val_accuracy: 0.9779\n",
      "\n",
      "Epoch 00003: val_accuracy improved from 0.97266 to 0.97786, saving model to mobilenetv2_model.hdf5\n",
      "Epoch 4/10\n",
      "252/252 [==============================] - 171s 677ms/step - loss: 0.1142 - accuracy: 0.9662 - val_loss: 0.0755 - val_accuracy: 0.9779\n",
      "\n",
      "Epoch 00004: val_accuracy did not improve from 0.97786\n",
      "Epoch 5/10\n",
      "252/252 [==============================] - 177s 702ms/step - loss: 0.0920 - accuracy: 0.9705 - val_loss: 0.0750 - val_accuracy: 0.9774\n",
      "\n",
      "Epoch 00005: val_accuracy did not improve from 0.97786\n",
      "Epoch 6/10\n",
      "252/252 [==============================] - 176s 697ms/step - loss: 0.0880 - accuracy: 0.9710 - val_loss: 0.0624 - val_accuracy: 0.9805\n",
      "\n",
      "Epoch 00006: val_accuracy improved from 0.97786 to 0.98047, saving model to mobilenetv2_model.hdf5\n",
      "Epoch 7/10\n",
      "252/252 [==============================] - 170s 676ms/step - loss: 0.0761 - accuracy: 0.9746 - val_loss: 0.0538 - val_accuracy: 0.9852\n",
      "\n",
      "Epoch 00007: val_accuracy improved from 0.98047 to 0.98524, saving model to mobilenetv2_model.hdf5\n",
      "Epoch 8/10\n",
      "252/252 [==============================] - 177s 700ms/step - loss: 0.0688 - accuracy: 0.9782 - val_loss: 0.0688 - val_accuracy: 0.9766\n",
      "\n",
      "Epoch 00008: val_accuracy did not improve from 0.98524\n",
      "Epoch 9/10\n",
      "252/252 [==============================] - 173s 685ms/step - loss: 0.0641 - accuracy: 0.9792 - val_loss: 0.0497 - val_accuracy: 0.9848\n",
      "\n",
      "Epoch 00009: val_accuracy did not improve from 0.98524\n",
      "Epoch 10/10\n",
      "252/252 [==============================] - 173s 686ms/step - loss: 0.0541 - accuracy: 0.9828 - val_loss: 0.0528 - val_accuracy: 0.9844\n",
      "\n",
      "Epoch 00010: val_accuracy did not improve from 0.98524\n",
      "              precision    recall  f1-score   support\n",
      "\n",
      "       daisy       0.97      0.97      0.97       176\n",
      "   dandelion       0.99      0.99      0.99       150\n",
      "        lily       0.98      0.98      0.98       162\n",
      "      orchid       0.96      0.98      0.97       186\n",
      "        rose       0.99      0.95      0.97       149\n",
      "   sunflower       0.97      0.99      0.98       172\n",
      "       tulip       0.98      0.97      0.97       161\n",
      "\n",
      "    accuracy                           0.98      1156\n",
      "   macro avg       0.98      0.98      0.98      1156\n",
      "weighted avg       0.98      0.98      0.98      1156\n",
      "\n"
     ]
    },
    {
     "data": {
      "text/plain": [
       "<Figure size 432x288 with 0 Axes>"
      ]
     },
     "metadata": {},
     "output_type": "display_data"
    },
    {
     "data": {
      "image/png": "[encoded data removed]",
      "text/plain": [
       "<Figure size 864x576 with 1 Axes>"
      ]
     },
     "metadata": {
      "needs_background": "light"
     },
     "output_type": "display_data"
    },
    {
     "name": "stdout",
     "output_type": "stream",
     "text": [
      "MOBILENETV2 model Accuracy: 97.75%\n",
      "\n",
      "\n",
      "### Training RESNET101 ###\n",
      "Epoch 1/10\n",
      "252/252 [==============================] - 195s 728ms/step - loss: 0.4521 - accuracy: 0.8545 - val_loss: 0.1334 - val_accuracy: 0.9614\n",
      "\n",
      "Epoch 00001: val_accuracy improved from -inf to 0.96137, saving model to resnet101_model.hdf5\n"
     ]
    },
    {
     "name": "stderr",
     "output_type": "stream",
     "text": [
      "/opt/conda/lib/python3.7/site-packages/keras/utils/generic_utils.py:497: CustomMaskWarning: Custom mask layers require a config and must override get_config. When loading, the custom mask layer must be passed to the custom_objects argument.\n",
      "  category=CustomMaskWarning)\n"
     ]
    },
    {
     "name": "stdout",
     "output_type": "stream",
     "text": [
      "Epoch 2/10\n",
      "252/252 [==============================] - 186s 740ms/step - loss: 0.1606 - accuracy: 0.9509 - val_loss: 0.0888 - val_accuracy: 0.9718\n",
      "\n",
      "Epoch 00002: val_accuracy improved from 0.96137 to 0.97179, saving model to resnet101_model.hdf5\n",
      "Epoch 3/10\n",
      "252/252 [==============================] - 184s 728ms/step - loss: 0.1120 - accuracy: 0.9649 - val_loss: 0.0691 - val_accuracy: 0.9796\n",
      "\n",
      "Epoch 00003: val_accuracy improved from 0.97179 to 0.97960, saving model to resnet101_model.hdf5\n",
      "Epoch 4/10\n",
      "252/252 [==============================] - 183s 726ms/step - loss: 0.0887 - accuracy: 0.9734 - val_loss: 0.0574 - val_accuracy: 0.9818\n",
      "\n",
      "Epoch 00004: val_accuracy improved from 0.97960 to 0.98177, saving model to resnet101_model.hdf5\n",
      "Epoch 5/10\n",
      "252/252 [==============================] - 188s 747ms/step - loss: 0.0786 - accuracy: 0.9749 - val_loss: 0.0493 - val_accuracy: 0.9848\n",
      "\n",
      "Epoch 00005: val_accuracy improved from 0.98177 to 0.98481, saving model to resnet101_model.hdf5\n",
      "Epoch 6/10\n",
      "252/252 [==============================] - 183s 725ms/step - loss: 0.0664 - accuracy: 0.9801 - val_loss: 0.0477 - val_accuracy: 0.9857\n",
      "\n",
      "Epoch 00006: val_accuracy improved from 0.98481 to 0.98568, saving model to resnet101_model.hdf5\n",
      "Epoch 7/10\n",
      "252/252 [==============================] - 187s 741ms/step - loss: 0.0594 - accuracy: 0.9827 - val_loss: 0.0435 - val_accuracy: 0.9887\n",
      "\n",
      "Epoch 00007: val_accuracy improved from 0.98568 to 0.98872, saving model to resnet101_model.hdf5\n",
      "Epoch 8/10\n",
      "252/252 [==============================] - 180s 714ms/step - loss: 0.0578 - accuracy: 0.9791 - val_loss: 0.0443 - val_accuracy: 0.9865\n",
      "\n",
      "Epoch 00008: val_accuracy did not improve from 0.98872\n",
      "Epoch 9/10\n",
      "252/252 [==============================] - 189s 748ms/step - loss: 0.0508 - accuracy: 0.9847 - val_loss: 0.0383 - val_accuracy: 0.9905\n",
      "\n",
      "Epoch 00009: val_accuracy improved from 0.98872 to 0.99045, saving model to resnet101_model.hdf5\n",
      "Epoch 10/10\n",
      "252/252 [==============================] - 183s 725ms/step - loss: 0.0428 - accuracy: 0.9876 - val_loss: 0.0410 - val_accuracy: 0.9878\n",
      "\n",
      "Epoch 00010: val_accuracy did not improve from 0.99045\n",
      "              precision    recall  f1-score   support\n",
      "\n",
      "       daisy       1.00      0.97      0.99       176\n",
      "   dandelion       1.00      1.00      1.00       150\n",
      "        lily       0.98      0.99      0.98       162\n",
      "      orchid       0.99      0.99      0.99       186\n",
      "        rose       1.00      0.99      0.99       149\n",
      "   sunflower       0.97      0.99      0.98       172\n",
      "       tulip       0.98      0.99      0.99       161\n",
      "\n",
      "    accuracy                           0.99      1156\n",
      "   macro avg       0.99      0.99      0.99      1156\n",
      "weighted avg       0.99      0.99      0.99      1156\n",
      "\n"
     ]
    },
    {
     "data": {
      "text/plain": [
       "<Figure size 432x288 with 0 Axes>"
      ]
     },
     "metadata": {},
     "output_type": "display_data"
    },
    {
     "data": {
      "image/png": "[encoded data removed]",
      "text/plain": [
       "<Figure size 864x576 with 1 Axes>"
      ]
     },
     "metadata": {
      "needs_background": "light"
     },
     "output_type": "display_data"
    },
    {
     "name": "stdout",
     "output_type": "stream",
     "text": [
      "RESNET101 model Accuracy: 98.88%\n",
      "\n",
      "\n"
     ]
    }
   ],
   "source": [
    "n_epochs = 10\n",
    "\n",
    "# Callback Function: EarlyStopping\n",
    "early_stop = EarlyStopping(monitor='val_accuracy', patience=3, restore_best_weights=True, mode='max')\n",
    "\n",
    "# Callback Function: Reduce learning rate on plateau\n",
    "red_lr = ReduceLROnPlateau(monitor='val_loss', factor=0.1, epsilon=0.0001, patience=2, verbose=1)\n",
    "\n",
    "for key in model_dict:\n",
    "    print (\"### Training {} ###\".format(key.upper()))\n",
    "\n",
    "    model = model_dict[key]\n",
    "\n",
    "    best_checkpoint = ModelCheckpoint(weightfile_dict[key],\n",
    "                                      save_weights_only=False, \n",
    "                                      save_best_only=True,\n",
    "                                      monitor='val_accuracy',\n",
    "                                      mode='max',\n",
    "                                      verbose=1)\n",
    "\n",
    "    history_logger = CSVLogger(historyfile_dict[key], separator=\",\", append=True)\n",
    "\n",
    "    history = model.fit(traingen,\n",
    "                        batch_size=BATCH_SIZE,\n",
    "                        epochs=n_epochs,\n",
    "                        validation_data=validgen,\n",
    "                        steps_per_epoch=traingen.samples // BATCH_SIZE,\n",
    "                        validation_steps=validgen.samples // BATCH_SIZE,\n",
    "                        callbacks=[best_checkpoint, history_logger, early_stop], #red_lr\n",
    "                        verbose=1)\n",
    "\n",
    "    ## Model evaluation\n",
    "    preds = model.predict(testgen)\n",
    "    preds = np.argmax(preds, axis=1)\n",
    "\n",
    "    report = classification_report(testgen.classes, preds, target_names=class_indices.values())\n",
    "    print(report)\n",
    "    \n",
    "    with open(\"classification_reports.txt\", \"a\") as f:\n",
    "        print(\"{} CLASSIFICATION REPORT\\n\".format(key.upper()), file=f)\n",
    "        print(report, file=f)\n",
    "\n",
    "    show_confusion_matrix(testgen.classes, preds, key, class_indices)\n",
    "    \n",
    "    acc = accuracy_score(testgen.classes, preds)\n",
    "    with open(\"model_accuracy.txt\", \"a\") as f:\n",
    "        print(\"{} model Accuracy: {:.2f}%\".format(key.upper(), acc * 100))\n",
    "        print(\"{} model Accuracy: {:.2f}%\".format(key.upper(), acc * 100), file=f)\n",
    "\n",
    "    print(\"\\n\")"
   ]
  },
  {
   "cell_type": "markdown",
   "id": "4b3ccc27",
   "metadata": {
    "papermill": {
     "duration": 6.608277,
     "end_time": "2022-05-10T19:08:03.461302",
     "exception": false,
     "start_time": "2022-05-10T19:07:56.853025",
     "status": "completed"
    },
    "tags": []
   },
   "source": [
    "# Plot Graphs"
   ]
  },
  {
   "cell_type": "code",
   "execution_count": 18,
   "id": "071452c3",
   "metadata": {
    "execution": {
     "iopub.execute_input": "2022-05-10T19:08:17.973975Z",
     "iopub.status.busy": "2022-05-10T19:08:17.973678Z",
     "iopub.status.idle": "2022-05-10T19:08:17.978533Z",
     "shell.execute_reply": "2022-05-10T19:08:17.977527Z"
    },
    "papermill": {
     "duration": 7.776678,
     "end_time": "2022-05-10T19:08:17.980826",
     "exception": false,
     "start_time": "2022-05-10T19:08:10.204148",
     "status": "completed"
    },
    "tags": []
   },
   "outputs": [],
   "source": [
    "# history = pd.read_csv(\"vgg16_history.csv\")\n",
    "\n",
    "# plt.plot(history.epoch, history.history['accuracy'])\n",
    "# plt.plot(history.epoch, history.history['val_accuracy'])\n",
    "# plt.title('Model Accuracy')\n",
    "# plt.legend(['train', 'validation'])\n",
    "# plt.xlabel('No. of Epochs')\n",
    "# plt.ylabel('Accuracy')\n",
    "# plt.figure()\n",
    "\n",
    "# plt.plot(history.epoch, history.history['loss'])\n",
    "# plt.plot(history.epoch, history.history['val_loss'])\n",
    "# plt.title('Model Loss')\n",
    "# plt.legend(['train', 'validation'])\n",
    "# plt.xlabel('No. of Epochs')\n",
    "# plt.ylabel('Loss')\n",
    "# plt.show()"
   ]
  },
  {
   "cell_type": "code",
   "execution_count": null,
   "id": "e7dc51aa",
   "metadata": {
    "papermill": {
     "duration": 7.441028,
     "end_time": "2022-05-10T19:08:31.890472",
     "exception": false,
     "start_time": "2022-05-10T19:08:24.449444",
     "status": "completed"
    },
    "tags": []
   },
   "outputs": [],
   "source": []
  }
 ],
 "metadata": {
  "kernelspec": {
   "display_name": "Python 3",
   "language": "python",
   "name": "python3"
  },
  "language_info": {
   "codemirror_mode": {
    "name": "ipython",
    "version": 3
   },
   "file_extension": ".py",
   "mimetype": "text/x-python",
   "name": "python",
   "nbconvert_exporter": "python",
   "pygments_lexer": "ipython3",
   "version": "3.7.12"
  },
  "papermill": {
   "default_parameters": {},
   "duration": 11668.215673,
   "end_time": "2022-05-10T19:08:42.076638",
   "environment_variables": {},
   "exception": null,
   "input_path": "__notebook__.ipynb",
   "output_path": "__notebook__.ipynb",
   "parameters": {},
   "start_time": "2022-05-10T15:54:13.860965",
   "version": "2.3.4"
  }
 },
 "nbformat": 4,
 "nbformat_minor": 5
}
