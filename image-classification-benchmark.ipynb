{
 "cells": [
  {
   "cell_type": "code",
   "execution_count": 1,
   "metadata": {
    "_cell_guid": "b1076dfc-b9ad-4769-8c92-a6c4dae69d19",
    "_kg_hide-input": false,
    "_uuid": "8f2839f25d086af736a60e9eeb907d3b93b6e0e5",
    "execution": {
     "iopub.execute_input": "2022-05-08T23:43:06.153560Z",
     "iopub.status.busy": "2022-05-08T23:43:06.152745Z",
     "iopub.status.idle": "2022-05-08T23:43:06.163548Z",
     "shell.execute_reply": "2022-05-08T23:43:06.162606Z",
     "shell.execute_reply.started": "2022-05-08T23:43:06.153509Z"
    }
   },
   "outputs": [],
   "source": [
    "import os\n",
    "import cv2\n",
    "import numpy as np\n",
    "import pandas as pd\n",
    "import tensorflow as tf\n",
    "import matplotlib.pyplot as plt\n",
    "from tensorflow.keras import models\n",
    "from tensorflow.keras import layers\n",
    "from tensorflow.keras import optimizers\n",
    "from tensorflow.keras.models import Sequential\n",
    "from tensorflow.keras.preprocessing.image import ImageDataGenerator\n",
    "from tensorflow.keras.applications.vgg16 import VGG16\n",
    "# from tensorflow.keras.applications.inception_v3 import InceptionV3\n",
    "# from tensorflow.keras.applications.inception_resnet_v2 import InceptionResNetV2\n",
    "# from tensorflow.keras.applications.densenet import DenseNet121\n",
    "# from tensorflow.keras.applications.mobilenet_v2 import MobileNetV2\n",
    "# from tensorflow.keras.applications.resnet_v2 import ResNet101V2"
   ]
  },
  {
   "cell_type": "markdown",
   "metadata": {
    "_kg_hide-input": true
   },
   "source": [
    "# Data Preparation"
   ]
  },
  {
   "cell_type": "code",
   "execution_count": 2,
   "metadata": {
    "execution": {
     "iopub.execute_input": "2022-05-08T23:43:09.328694Z",
     "iopub.status.busy": "2022-05-08T23:43:09.328394Z",
     "iopub.status.idle": "2022-05-08T23:43:09.334045Z",
     "shell.execute_reply": "2022-05-08T23:43:09.333032Z",
     "shell.execute_reply.started": "2022-05-08T23:43:09.328663Z"
    }
   },
   "outputs": [],
   "source": [
    "train_data_dir = \"flowers/train\"\n",
    "val_data_dir = \"flowers/val\"\n",
    "test_data_dir = \"flowers/test\"\n",
    "\n",
    "#change according to model \n",
    "image_size = 224\n",
    "BATCH_SIZE = 32"
   ]
  },
  {
   "cell_type": "code",
   "execution_count": 4,
   "metadata": {
    "execution": {
     "iopub.execute_input": "2022-05-08T23:43:12.625123Z",
     "iopub.status.busy": "2022-05-08T23:43:12.624819Z",
     "iopub.status.idle": "2022-05-08T23:43:12.640814Z",
     "shell.execute_reply": "2022-05-08T23:43:12.639841Z",
     "shell.execute_reply.started": "2022-05-08T23:43:12.625091Z"
    }
   },
   "outputs": [
    {
     "name": "stdout",
     "output_type": "stream",
     "text": [
      "['daisy', 'dandelion', 'lily', 'orchid', 'rose', 'sunflower', 'tulip']\n"
     ]
    }
   ],
   "source": [
    "class_subset = sorted(f for f in os.listdir(train_data_dir) if not f.startswith('.'))\n",
    "# sorted(os.listdir(train_data_dir))\n",
    "print(class_subset)"
   ]
  },
  {
   "cell_type": "code",
   "execution_count": 5,
   "metadata": {
    "execution": {
     "iopub.execute_input": "2022-05-08T23:43:15.335395Z",
     "iopub.status.busy": "2022-05-08T23:43:15.334737Z",
     "iopub.status.idle": "2022-05-08T23:43:15.341849Z",
     "shell.execute_reply": "2022-05-08T23:43:15.340810Z",
     "shell.execute_reply.started": "2022-05-08T23:43:15.335359Z"
    }
   },
   "outputs": [],
   "source": [
    "#central crop\n",
    "def crop_center_square(image):\n",
    "    img_height, img_width = image.shape[0:2]\n",
    "    min_dim = min(img_height, img_width)\n",
    "    start_x = (img_width // 2) - (min_dim // 2)\n",
    "    start_y = (img_height // 2) - (min_dim // 2)\n",
    "    \n",
    "    img = image[start_y : start_y + min_dim, start_x : start_x + min_dim]\n",
    "    img = cv2.resize(img, (image_size, image_size))\n",
    "    img = cv2.cvtColor(img,cv2.COLOR_BGR2RGB)\n",
    "    return img"
   ]
  },
  {
   "cell_type": "code",
   "execution_count": 6,
   "metadata": {
    "execution": {
     "iopub.execute_input": "2022-05-08T23:43:15.750672Z",
     "iopub.status.busy": "2022-05-08T23:43:15.749890Z",
     "iopub.status.idle": "2022-05-08T23:43:15.758228Z",
     "shell.execute_reply": "2022-05-08T23:43:15.757204Z",
     "shell.execute_reply.started": "2022-05-08T23:43:15.750635Z"
    }
   },
   "outputs": [],
   "source": [
    "train_generator = ImageDataGenerator(rescale=1/255.,\n",
    "                                     featurewise_center= False,\n",
    "                                     samplewise_center= False,\n",
    "                                     featurewise_std_normalization= False,\n",
    "                                     samplewise_std_normalization=False,\n",
    "                                     rotation_range= 10,     # 0-180\n",
    "                                     zca_whitening=False,\n",
    "                                     zoom_range=0.1,         # Randomly zoom image\n",
    "                                     width_shift_range=0.2,  # randomly shift images horizontally (fraction of total width)\n",
    "                                     height_shift_range=0.2, # randomly shift images vertically (fraction of total height)\n",
    "                                     horizontal_flip=True,   # randomly flip images\n",
    "                                     vertical_flip=False,\n",
    "                                     validation_split=0.0,\n",
    "                                     preprocessing_function=crop_center_square)\n",
    "\n",
    "val_generator  = ImageDataGenerator(rescale=1/255.,\n",
    "                                    preprocessing_function=crop_center_square)\n",
    "\n",
    "test_generator = ImageDataGenerator(rescale=1/255.,\n",
    "                                    preprocessing_function=crop_center_square)"
   ]
  },
  {
   "cell_type": "code",
   "execution_count": 7,
   "metadata": {
    "execution": {
     "iopub.execute_input": "2022-05-08T23:43:46.170871Z",
     "iopub.status.busy": "2022-05-08T23:43:46.170525Z",
     "iopub.status.idle": "2022-05-08T23:43:48.640697Z",
     "shell.execute_reply": "2022-05-08T23:43:48.639730Z",
     "shell.execute_reply.started": "2022-05-08T23:43:46.170829Z"
    }
   },
   "outputs": [
    {
     "name": "stdout",
     "output_type": "stream",
     "text": [
      "Found 8069 images belonging to 7 classes.\n",
      "Found 2306 images belonging to 7 classes.\n",
      "Found 1156 images belonging to 7 classes.\n"
     ]
    }
   ],
   "source": [
    "traingen = train_generator.flow_from_directory(train_data_dir,\n",
    "                                               target_size=(image_size, image_size),\n",
    "                                               class_mode='categorical',\n",
    "                                               classes=class_subset,\n",
    "                                               subset='training',\n",
    "                                               batch_size=BATCH_SIZE, \n",
    "                                               shuffle=True,\n",
    "                                               seed=21)\n",
    "\n",
    "validgen = val_generator.flow_from_directory(val_data_dir,\n",
    "                                             target_size=(image_size, image_size),\n",
    "                                             classes=class_subset,\n",
    "                                             batch_size=BATCH_SIZE,\n",
    "                                             shuffle=True,\n",
    "                                             seed=21)\n",
    "\n",
    "testgen = test_generator.flow_from_directory(test_data_dir,\n",
    "                                             target_size=(image_size, image_size),\n",
    "                                             class_mode=None,\n",
    "                                             classes=class_subset,\n",
    "                                             batch_size=1,\n",
    "                                             shuffle=False,\n",
    "                                             seed=21)\n",
    "\n",
    "class_indices = traingen.class_indices\n",
    "class_indices = dict((v,k) for k,v in class_indices.items())"
   ]
  },
  {
   "cell_type": "code",
   "execution_count": 16,
   "metadata": {
    "execution": {
     "iopub.execute_input": "2022-05-08T23:59:40.299535Z",
     "iopub.status.busy": "2022-05-08T23:59:40.299223Z",
     "iopub.status.idle": "2022-05-08T23:59:40.705385Z",
     "shell.execute_reply": "2022-05-08T23:59:40.704331Z",
     "shell.execute_reply.started": "2022-05-08T23:59:40.299503Z"
    }
   },
   "outputs": [],
   "source": [
    "# VGG16\n",
    "base_model = VGG16(weights='imagenet',\n",
    "                   include_top= False, \n",
    "                   input_shape=(image_size,image_size,3),\n",
    "                   pooling='avg')\n",
    "\n",
    "base_model.trainable = False\n",
    "\n",
    "model = Sequential()\n",
    "model.add(base_model)\n",
    "# model.add(layers.Flatten())\n",
    "model.add(layers.Dense(256,activation='relu'))\n",
    "model.add(layers.Dense(len(class_subset),activation=\"softmax\"))\n",
    "\n",
    "model.compile(optimizer=optimizers.Adam(learning_rate = 1e-4), \n",
    "              loss='categorical_crossentropy', \n",
    "              metrics=['accuracy'])\n",
    "\n",
    "model.summary()"
   ]
  },
  {
   "cell_type": "code",
   "execution_count": null,
   "metadata": {
    "execution": {
     "iopub.execute_input": "2022-05-05T00:37:02.066453Z",
     "iopub.status.busy": "2022-05-05T00:37:02.065888Z",
     "iopub.status.idle": "2022-05-05T00:37:07.703876Z",
     "shell.execute_reply": "2022-05-05T00:37:07.703166Z",
     "shell.execute_reply.started": "2022-05-05T00:37:02.066414Z"
    },
    "jupyter": {
     "source_hidden": true
    }
   },
   "outputs": [],
   "source": [
    "# InceptionV3\n",
    "base_model = InceptionV3(input_shape = (image_size, image_size, 3), \n",
    "                         include_top = False, \n",
    "                         weights = 'imagenet',\n",
    "                         pooling='avg')\n",
    "\n",
    "base_model.trainable = False\n",
    "\n",
    "model = Sequential()\n",
    "model.add(base_model)\n",
    "# model.add(layers.GlobalAveragePooling2D())\n",
    "model.add(layers.Dense(256,activation='relu'))\n",
    "model.add(layers.Dropout(0.5))\n",
    "model.add(layers.Dense(len(class_subset),activation=\"softmax\"))\n",
    "\n",
    "model.compile(optimizer=optimizers.Adam(learning_rate = 1e-4), \n",
    "              loss='categorical_crossentropy', \n",
    "              metrics=['accuracy'])\n",
    "\n",
    "model.summary()"
   ]
  },
  {
   "cell_type": "code",
   "execution_count": null,
   "metadata": {
    "execution": {
     "iopub.execute_input": "2022-05-04T15:39:36.571911Z",
     "iopub.status.busy": "2022-05-04T15:39:36.571404Z",
     "iopub.status.idle": "2022-05-04T15:39:46.121701Z",
     "shell.execute_reply": "2022-05-04T15:39:46.120951Z",
     "shell.execute_reply.started": "2022-05-04T15:39:36.571875Z"
    },
    "jupyter": {
     "source_hidden": true
    }
   },
   "outputs": [],
   "source": [
    "# InceptionResNetV2\n",
    "base_model = InceptionResNetV2(input_shape = (image_size, image_size, 3), \n",
    "                               include_top = False, \n",
    "                               weights = \"imagenet\", \n",
    "                               pooling='avg')\n",
    "\n",
    "base_model.trainable = False\n",
    "\n",
    "model = Sequential()\n",
    "model.add(base_model)\n",
    "model.add(layers.Dense(256,activation='relu'))\n",
    "model.add(layers.Dropout(0.5))\n",
    "model.add(layers.Dense(5,activation=\"softmax\"))\n",
    "\n",
    "model.compile(optimizer=optimizers.Adam(learning_rate = 1e-4), \n",
    "              loss='categorical_crossentropy', \n",
    "              metrics=['accuracy'])\n",
    "\n",
    "model.summary()"
   ]
  },
  {
   "cell_type": "code",
   "execution_count": null,
   "metadata": {
    "execution": {
     "iopub.execute_input": "2022-05-05T14:19:02.102218Z",
     "iopub.status.busy": "2022-05-05T14:19:02.101896Z",
     "iopub.status.idle": "2022-05-05T14:19:08.230854Z",
     "shell.execute_reply": "2022-05-05T14:19:08.230082Z",
     "shell.execute_reply.started": "2022-05-05T14:19:02.102176Z"
    },
    "jupyter": {
     "source_hidden": true
    }
   },
   "outputs": [],
   "source": [
    "# DenseNet169\n",
    "base_model = DenseNet121(weights='imagenet',\n",
    "                         include_top= False, \n",
    "                         input_shape=(image_size,image_size,3), \n",
    "                         pooling='avg')\n",
    "\n",
    "base_model.trainable = False\n",
    "\n",
    "model = Sequential()\n",
    "model.add(base_model)\n",
    "model.add(layers.Flatten())\n",
    "model.add(layers.Dense(256,activation='relu'))\n",
    "model.add(layers.Dense(5,activation=\"softmax\"))\n",
    "\n",
    "model.compile(optimizer=optimizers.Adam(learning_rate = 1e-4), \n",
    "              loss='categorical_crossentropy', \n",
    "              metrics=['accuracy'])\n",
    "\n",
    "model.summary()"
   ]
  },
  {
   "cell_type": "code",
   "execution_count": null,
   "metadata": {
    "execution": {
     "iopub.execute_input": "2022-05-05T14:48:22.642061Z",
     "iopub.status.busy": "2022-05-05T14:48:22.641773Z",
     "iopub.status.idle": "2022-05-05T14:48:24.194809Z",
     "shell.execute_reply": "2022-05-05T14:48:24.194085Z",
     "shell.execute_reply.started": "2022-05-05T14:48:22.642031Z"
    },
    "jupyter": {
     "source_hidden": true
    }
   },
   "outputs": [],
   "source": [
    "# MobileNetV2\n",
    "base_model = MobileNetV2(weights='imagenet',\n",
    "                         include_top= False, \n",
    "                         input_shape=(image_size,image_size,3), \n",
    "                         pooling='avg')\n",
    "\n",
    "base_model.trainable = False\n",
    "\n",
    "model = Sequential()\n",
    "model.add(base_model)\n",
    "model.add(layers.Flatten())\n",
    "model.add(layers.Dense(256,activation='relu'))\n",
    "model.add(layers.Dense(5,activation=\"softmax\"))\n",
    "\n",
    "model.compile(optimizer=optimizers.Adam(learning_rate = 1e-4), \n",
    "              loss='categorical_crossentropy', \n",
    "              metrics=['accuracy'])\n",
    "\n",
    "model.summary()"
   ]
  },
  {
   "cell_type": "code",
   "execution_count": null,
   "metadata": {
    "execution": {
     "iopub.execute_input": "2022-05-05T15:51:43.143458Z",
     "iopub.status.busy": "2022-05-05T15:51:43.143183Z",
     "iopub.status.idle": "2022-05-05T15:51:47.707037Z",
     "shell.execute_reply": "2022-05-05T15:51:47.706333Z",
     "shell.execute_reply.started": "2022-05-05T15:51:43.143427Z"
    },
    "jupyter": {
     "source_hidden": true
    }
   },
   "outputs": [],
   "source": [
    "# ResNet50\n",
    "base_model = ResNet101V2(weights='imagenet',\n",
    "                         include_top= False, \n",
    "                         input_shape=(image_size,image_size,3), \n",
    "                         pooling='avg')\n",
    "\n",
    "base_model.trainable = False\n",
    "\n",
    "model = Sequential()\n",
    "model.add(base_model)\n",
    "model.add(layers.Flatten())\n",
    "model.add(layers.Dense(256,activation='relu'))\n",
    "model.add(layers.Dense(5,activation=\"softmax\"))\n",
    "\n",
    "model.compile(optimizer=optimizers.Adam(learning_rate = 1e-4), \n",
    "              loss='categorical_crossentropy', \n",
    "              metrics=['accuracy'])\n",
    "\n",
    "model.summary()"
   ]
  },
  {
   "cell_type": "code",
   "execution_count": 17,
   "metadata": {
    "execution": {
     "iopub.execute_input": "2022-05-08T23:59:43.608078Z",
     "iopub.status.busy": "2022-05-08T23:59:43.607770Z",
     "iopub.status.idle": "2022-05-09T00:29:15.414180Z",
     "shell.execute_reply": "2022-05-09T00:29:15.412899Z",
     "shell.execute_reply.started": "2022-05-08T23:59:43.608047Z"
    }
   },
   "outputs": [],
   "source": [
    "from tensorflow.keras.callbacks import ModelCheckpoint, EarlyStopping\n",
    "from tensorflow.keras.callbacks import CSVLogger\n",
    "from tensorflow.keras.callbacks import ReduceLROnPlateau\n",
    "\n",
    "# # EarlyStopping\n",
    "early_stop = EarlyStopping(monitor='val_accuracy',\n",
    "                           patience=3,\n",
    "                           restore_best_weights=True,\n",
    "                           mode='max')\n",
    "\n",
    "red_lr = ReduceLROnPlateau(monitor='val_loss',\n",
    "                           factor=0.1,\n",
    "                           epsilon=0.0001,\n",
    "                           patience=2,\n",
    "                           verbose=1)\n",
    "\n",
    "weight_file = 'vgg16_model.hdf5'\n",
    "# weight_file = 'inceptionv3_model.hdf5'\n",
    "# weight_file = 'inception_resnet_model.hdf5'\n",
    "# weight_file = 'densenet121_model.hdf5'\n",
    "# weight_file = 'mobilenetv2_model.hdf5'\n",
    "# weight_file = 'resnet101_model.hdf5'\n",
    "\n",
    "best_checkpoint = ModelCheckpoint(weight_file,\n",
    "                                  save_weights_only=False, \n",
    "                                  save_best_only=True,\n",
    "                                  monitor='val_accuracy',\n",
    "                                  mode='max',\n",
    "                                  verbose=1)\n",
    "\n",
    "history_file = 'vgg16_history.csv'\n",
    "# history_file = 'inceptionv3_history.csv'\n",
    "# history_file = 'inception_resnet_history.csv'\n",
    "# history_file = 'densenet121_history.csv'\n",
    "# history_file = 'mobilenetv2_history.csv'\n",
    "# history_file = 'resnet101_history.csv'\n",
    "\n",
    "history_logger = CSVLogger(history_file, separator=\",\", append=True)\n",
    "\n",
    "n_epochs = 10\n",
    "\n",
    "history = model.fit(traingen,\n",
    "                    batch_size=BATCH_SIZE,\n",
    "                    epochs=n_epochs,\n",
    "                    validation_data=validgen,\n",
    "                    steps_per_epoch=traingen.samples // BATCH_SIZE,\n",
    "                    validation_steps=validgen.samples // BATCH_SIZE,\n",
    "                    callbacks=[best_checkpoint, history_logger, red_lr, early_stop],\n",
    "                    verbose=1)"
   ]
  },
  {
   "cell_type": "code",
   "execution_count": 18,
   "metadata": {
    "execution": {
     "iopub.execute_input": "2022-05-09T00:29:15.417228Z",
     "iopub.status.busy": "2022-05-09T00:29:15.416928Z",
     "iopub.status.idle": "2022-05-09T00:29:28.503772Z",
     "shell.execute_reply": "2022-05-09T00:29:28.502824Z",
     "shell.execute_reply.started": "2022-05-09T00:29:15.417168Z"
    }
   },
   "outputs": [],
   "source": [
    "from sklearn.metrics import classification_report\n",
    "\n",
    "preds = model.predict(testgen)\n",
    "preds = np.argmax(preds, axis=1)\n",
    "\n",
    "report = classification_report(testgen.classes, preds)\n",
    "print(report)"
   ]
  },
  {
   "cell_type": "code",
   "execution_count": 19,
   "metadata": {
    "execution": {
     "iopub.execute_input": "2022-05-09T00:29:28.506343Z",
     "iopub.status.busy": "2022-05-09T00:29:28.505324Z",
     "iopub.status.idle": "2022-05-09T00:29:28.514675Z",
     "shell.execute_reply": "2022-05-09T00:29:28.513414Z",
     "shell.execute_reply.started": "2022-05-09T00:29:28.506299Z"
    }
   },
   "outputs": [],
   "source": [
    "from sklearn.metrics import accuracy_score\n",
    "\n",
    "acc = accuracy_score(testgen.classes, preds)\n",
    "print(\"VGG16 Model Accuracy: {:.2f}%\".format(acc * 100))\n",
    "# print(\"InceptionV3 Model Accuracy: {:.2f}%\".format(acc * 100))\n",
    "# print(\"Inception_ResNet Model Accuracy: {:.2f}%\".format(acc * 100))\n",
    "# print(\"Densenet121 Model Accuracy: {:.2f}%\".format(acc * 100))\n",
    "# print(\"MobilenetV2 Model Accuracy: {:.2f}%\".format(acc * 100))\n",
    "# print(\"Resnet101 Model Accuracy: {:.2f}%\".format(acc * 100))"
   ]
  },
  {
   "cell_type": "code",
   "execution_count": 20,
   "metadata": {
    "execution": {
     "iopub.execute_input": "2022-05-09T00:29:28.518207Z",
     "iopub.status.busy": "2022-05-09T00:29:28.517800Z",
     "iopub.status.idle": "2022-05-09T00:29:28.989113Z",
     "shell.execute_reply": "2022-05-09T00:29:28.988114Z",
     "shell.execute_reply.started": "2022-05-09T00:29:28.518142Z"
    }
   },
   "outputs": [],
   "source": [
    "plt.plot(history.epoch, history.history['accuracy'])\n",
    "plt.plot(history.epoch, history.history['val_accuracy'])\n",
    "plt.title('Model Accuracy')\n",
    "plt.legend(['train', 'validation'])\n",
    "plt.xlabel('No. of Epochs')\n",
    "plt.ylabel('Accuracy')\n",
    "plt.figure()\n",
    "\n",
    "plt.plot(history.epoch, history.history['loss'])\n",
    "plt.plot(history.epoch, history.history['val_loss'])\n",
    "plt.title('Model Loss')\n",
    "plt.legend(['train', 'validation'])\n",
    "plt.xlabel('No. of Epochs')\n",
    "plt.ylabel('Loss')\n",
    "plt.show()"
   ]
  },
  {
   "cell_type": "markdown",
   "metadata": {},
   "source": [
    "# Model Finetuning"
   ]
  },
  {
   "cell_type": "code",
   "execution_count": 23,
   "metadata": {
    "execution": {
     "iopub.execute_input": "2022-05-09T00:38:01.229243Z",
     "iopub.status.busy": "2022-05-09T00:38:01.228906Z",
     "iopub.status.idle": "2022-05-09T00:38:01.384917Z",
     "shell.execute_reply": "2022-05-09T00:38:01.384015Z",
     "shell.execute_reply.started": "2022-05-09T00:38:01.229182Z"
    }
   },
   "outputs": [],
   "source": [
    "# VGG16, InceptionV3, Inception_ResNet, Densenet121, MobileNetV2, EfficientNet, Resnet101\n",
    "# freeze all layers except from layer 15 onwards\n",
    "base_model.trainable = True\n",
    "\n",
    "for layer in base_model.layers[:-15]:\n",
    "    layer.trainable=False\n",
    "\n",
    "model = Sequential()\n",
    "model.add(base_model)\n",
    "# model.add(layers.Flatten())\n",
    "model.add(layers.Dense(256,activation='relu'))\n",
    "model.add(layers.Dropout(0.2))\n",
    "model.add(layers.Dense(len(class_subset),activation=\"softmax\"))\n",
    "model.summary()\n",
    "\n",
    "# Recompile the model\n",
    "model.compile(optimizer=optimizers.Adam(learning_rate = 1e-4), \n",
    "              loss='categorical_crossentropy', \n",
    "              metrics=['accuracy'])"
   ]
  },
  {
   "cell_type": "code",
   "execution_count": 24,
   "metadata": {
    "execution": {
     "iopub.execute_input": "2022-05-09T00:38:05.262883Z",
     "iopub.status.busy": "2022-05-09T00:38:05.262607Z",
     "iopub.status.idle": "2022-05-09T00:59:31.627340Z",
     "shell.execute_reply": "2022-05-09T00:59:31.625296Z",
     "shell.execute_reply.started": "2022-05-09T00:38:05.262853Z"
    }
   },
   "outputs": [],
   "source": [
    "n_epochs = 10\n",
    "\n",
    "fine_tune_history = model.fit(traingen,\n",
    "                              batch_size=BATCH_SIZE,\n",
    "                              epochs=n_epochs, \n",
    "                              validation_data=validgen,\n",
    "                              steps_per_epoch=traingen.samples // BATCH_SIZE,\n",
    "                              validation_steps=validgen.samples // BATCH_SIZE,\n",
    "                              callbacks=[best_checkpoint, history_logger, red_lr, early_stop],\n",
    "                              verbose=1)"
   ]
  },
  {
   "cell_type": "code",
   "execution_count": 13,
   "metadata": {
    "execution": {
     "iopub.execute_input": "2022-05-09T01:00:05.484660Z",
     "iopub.status.busy": "2022-05-09T01:00:05.484347Z",
     "iopub.status.idle": "2022-05-09T01:00:15.814856Z",
     "shell.execute_reply": "2022-05-09T01:00:15.813849Z",
     "shell.execute_reply.started": "2022-05-09T01:00:05.484627Z"
    }
   },
   "outputs": [
    {
     "name": "stdout",
     "output_type": "stream",
     "text": [
      "              precision    recall  f1-score   support\n",
      "\n",
      "           0       0.97      0.97      0.97       176\n",
      "           1       0.99      0.99      0.99       150\n",
      "           2       0.98      0.99      0.99       162\n",
      "           3       0.99      0.99      0.99       186\n",
      "           4       0.99      0.99      0.99       149\n",
      "           5       0.98      0.98      0.98       172\n",
      "           6       1.00      0.99      0.99       161\n",
      "\n",
      "    accuracy                           0.99      1156\n",
      "   macro avg       0.99      0.99      0.99      1156\n",
      "weighted avg       0.99      0.99      0.99      1156\n",
      "\n"
     ]
    }
   ],
   "source": [
    "from sklearn.metrics import classification_report\n",
    "\n",
    "class_indices = traingen.class_indices\n",
    "class_indices = dict((v,k) for k,v in class_indices.items())\n",
    "\n",
    "preds = model.predict(testgen)\n",
    "preds = np.argmax(preds, axis=1)\n",
    "\n",
    "report = classification_report(testgen.classes, preds)\n",
    "print(report)"
   ]
  },
  {
   "cell_type": "code",
   "execution_count": 27,
   "metadata": {
    "execution": {
     "iopub.execute_input": "2022-05-09T01:00:20.369910Z",
     "iopub.status.busy": "2022-05-09T01:00:20.369317Z",
     "iopub.status.idle": "2022-05-09T01:00:20.376874Z",
     "shell.execute_reply": "2022-05-09T01:00:20.375717Z",
     "shell.execute_reply.started": "2022-05-09T01:00:20.369877Z"
    }
   },
   "outputs": [],
   "source": [
    "from sklearn.metrics import accuracy_score\n",
    "\n",
    "acc = accuracy_score(testgen.classes, preds)\n",
    "print(\"VGG16 Model Accuracy: {:.2f}%\".format(acc * 100))\n",
    "# print(\"InceptionV3 Model Accuracy: {:.2f}%\".format(acc * 100))\n",
    "# print(\"Inception_ResNet Model Accuracy: {:.2f}%\".format(acc * 100))\n",
    "# print(\"Densenet121 Model Accuracy: {:.2f}%\".format(acc * 100))\n",
    "# print(\"MobileNetV2 Model Accuracy: {:.2f}%\".format(acc * 100))\n",
    "# print(\"ResNet101 Model Accuracy: {:.2f}%\".format(acc * 100))"
   ]
  },
  {
   "cell_type": "code",
   "execution_count": 28,
   "metadata": {
    "execution": {
     "iopub.execute_input": "2022-05-09T01:00:32.129918Z",
     "iopub.status.busy": "2022-05-09T01:00:32.129093Z",
     "iopub.status.idle": "2022-05-09T01:00:32.640005Z",
     "shell.execute_reply": "2022-05-09T01:00:32.639033Z",
     "shell.execute_reply.started": "2022-05-09T01:00:32.129876Z"
    }
   },
   "outputs": [],
   "source": [
    "from sklearn.metrics import confusion_matrix\n",
    "from mlxtend.plotting import plot_confusion_matrix\n",
    "\n",
    "cm  = confusion_matrix(testgen.classes, preds)\n",
    "\n",
    "plt.figure()\n",
    "plot_confusion_matrix(cm,figsize=(12,8),cmap=plt.cm.Blues)\n",
    "plt.xticks(range(len(class_indices)), class_indices.values(), fontsize=16)\n",
    "plt.yticks(range(len(class_indices)), class_indices.values(), fontsize=16)\n",
    "plt.xlabel('Predicted Label',fontsize=18)\n",
    "plt.ylabel('True Label',fontsize=18)\n",
    "plt.show()"
   ]
  },
  {
   "cell_type": "markdown",
   "metadata": {},
   "source": [
    "# Single Image Inference"
   ]
  },
  {
   "cell_type": "code",
   "execution_count": 29,
   "metadata": {
    "execution": {
     "iopub.execute_input": "2022-05-09T01:00:37.030901Z",
     "iopub.status.busy": "2022-05-09T01:00:37.030605Z",
     "iopub.status.idle": "2022-05-09T01:00:37.037798Z",
     "shell.execute_reply": "2022-05-09T01:00:37.034746Z",
     "shell.execute_reply.started": "2022-05-09T01:00:37.030868Z"
    }
   },
   "outputs": [],
   "source": [
    "from keras.preprocessing.image import load_img\n",
    "from tensorflow.keras.models import load_model"
   ]
  },
  {
   "cell_type": "code",
   "execution_count": 30,
   "metadata": {
    "execution": {
     "iopub.execute_input": "2022-05-09T01:00:53.266258Z",
     "iopub.status.busy": "2022-05-09T01:00:53.265941Z",
     "iopub.status.idle": "2022-05-09T01:00:53.517576Z",
     "shell.execute_reply": "2022-05-09T01:00:53.516550Z",
     "shell.execute_reply.started": "2022-05-09T01:00:53.266225Z"
    }
   },
   "outputs": [],
   "source": [
    "import matplotlib.pyplot as plt\n",
    "\n",
    "filename = '../input/flowerdatasets/flowers/test/orchid/1012229979_3ecc9f9859_o.jpg'\n",
    "image = load_img(filename, target_size=(image_size, image_size))\n",
    "plt.imshow(image)\n",
    "plt.show()"
   ]
  },
  {
   "cell_type": "code",
   "execution_count": 31,
   "metadata": {
    "execution": {
     "iopub.execute_input": "2022-05-09T01:01:00.900408Z",
     "iopub.status.busy": "2022-05-09T01:01:00.900085Z",
     "iopub.status.idle": "2022-05-09T01:01:01.588536Z",
     "shell.execute_reply": "2022-05-09T01:01:01.586469Z",
     "shell.execute_reply.started": "2022-05-09T01:01:00.900361Z"
    }
   },
   "outputs": [],
   "source": [
    "import cv2\n",
    "import numpy as np\n",
    "import time\n",
    "\n",
    "image_size = 224 \n",
    "\n",
    "img = cv2.imread(filename)\n",
    "img = cv2.resize(img,(image_size,image_size))\n",
    "img = img/255\n",
    "img = np.reshape(img,[1,image_size,image_size,3])\n",
    "\n",
    "model = load_model('vgg16_model.hdf5')\n",
    "# model = load_model('inceptionv3_model.hdf5')\n",
    "# model = load_model('inception_resnet_model.hdf5')\n",
    "# model = load_model('densenet121_model.hdf5')\n",
    "# model = load_model('mobilenetv2_model.hdf5')\n",
    "# model = load_model('resnet101_model.hdf5')\n",
    "\n",
    "start_time = time.time()\n",
    "prediction=model.predict(img) \n",
    "prediction=np.argmax(prediction,axis=1)[0]\n",
    "end_time = time.time()\n",
    "\n",
    "print(\"Predicted class: {}, time {:.3f}s\".format(class_indices[prediction], end_time-start_time))"
   ]
  },
  {
   "cell_type": "code",
   "execution_count": null,
   "metadata": {},
   "outputs": [],
   "source": []
  }
 ],
 "metadata": {
  "kernelspec": {
   "display_name": "Python 3 (ipykernel)",
   "language": "python",
   "name": "python3"
  },
  "language_info": {
   "codemirror_mode": {
    "name": "ipython",
    "version": 3
   },
   "file_extension": ".py",
   "mimetype": "text/x-python",
   "name": "python",
   "nbconvert_exporter": "python",
   "pygments_lexer": "ipython3",
   "version": "3.7.11"
  }
 },
 "nbformat": 4,
 "nbformat_minor": 4
}
